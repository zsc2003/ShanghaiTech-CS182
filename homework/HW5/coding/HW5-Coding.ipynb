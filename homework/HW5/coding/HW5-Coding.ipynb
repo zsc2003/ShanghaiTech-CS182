{
 "cells": [
  {
   "attachments": {},
   "cell_type": "markdown",
   "metadata": {
    "colab_type": "text",
    "id": "Z_LTBtfMBvW_"
   },
   "source": [
    "# Homework 5: Convolutional neural network (30 points)\n"
   ]
  },
  {
   "attachments": {},
   "cell_type": "markdown",
   "metadata": {},
   "source": [
    "In this part, you need to implement and train a convolutional neural network on the CIFAR-10 dataset with PyTorch.\n",
    "### What is PyTorch?\n",
    "\n",
    "PyTorch is a system for executing dynamic computational graphs over Tensor objects that behave similarly as numpy ndarray. It comes with a powerful automatic differentiation engine that removes the need for manual back-propagation. \n",
    "\n",
    "### Why?\n",
    "\n",
    "* Our code will now run on GPUs! Much faster training. When using a framework like PyTorch or TensorFlow you can harness the power of the GPU for your own custom neural network architectures without having to write CUDA code directly (which is beyond the scope of this class).\n",
    "* We want you to be ready to use one of these frameworks for your project so you can experiment more efficiently than if you were writing every feature you want to use by hand. \n",
    "* We want you to stand on the shoulders of giants! TensorFlow and PyTorch are both excellent frameworks that will make your lives a lot easier, and now that you understand their guts, you are free to use them :) \n",
    "* We want you to be exposed to the sort of deep learning code you might run into in academia or industry.\n",
    "## How can I learn PyTorch?\n",
    "\n",
    "Justin Johnson has made an excellent [tutorial](https://github.com/jcjohnson/pytorch-examples) for PyTorch. \n",
    "\n",
    "You can also find the detailed [API doc](http://pytorch.org/docs/stable/index.html) here. If you have other questions that are not addressed by the API docs, the [PyTorch forum](https://discuss.pytorch.org/) is a much better place to ask than StackOverflow."
   ]
  },
  {
   "attachments": {},
   "cell_type": "markdown",
   "metadata": {
    "colab_type": "text",
    "id": "T33dD1e8tii2"
   },
   "source": [
    "Install PyTorch and Skorch."
   ]
  },
  {
   "cell_type": "code",
   "execution_count": 1,
   "metadata": {
    "colab": {
     "base_uri": "https://localhost:8080/",
     "height": 35
    },
    "colab_type": "code",
    "id": "pJB3VQYDCUmh",
    "outputId": "43ab27ff-b2fb-4f7b-f517-f2b029b18ba2",
    "vscode": {
     "languageId": "shellscript"
    }
   },
   "outputs": [],
   "source": [
    "!pip install -q torch skorch torchvision torchtext"
   ]
  },
  {
   "cell_type": "code",
   "execution_count": 14,
   "metadata": {
    "colab": {
     "base_uri": "https://localhost:8080/",
     "height": 72
    },
    "colab_type": "code",
    "id": "3l_Dl6qxCXmv",
    "outputId": "c0bbb1f4-081a-464e-bf46-a34c2767e83a"
   },
   "outputs": [],
   "source": [
    "import torch\n",
    "import torch.nn as nn\n",
    "import torch.nn.functional as F\n",
    "import torch.optim as optim\n",
    "import torchvision\n",
    "import torchvision.transforms as transforms\n",
    "import skorch\n",
    "import sklearn\n",
    "import numpy as np\n",
    "import matplotlib.pyplot as plt\n",
    "import pandas as pd"
   ]
  },
  {
   "attachments": {},
   "cell_type": "markdown",
   "metadata": {
    "colab_type": "text",
    "id": "uevQtU7NtZ_-"
   },
   "source": [
    "## 0. Tensor Operations (5 points)\n",
    "\n",
    "Tensor operations are important in deep learning models. In this part, you are required to get famaliar to some common tensor operations in PyTorch."
   ]
  },
  {
   "attachments": {},
   "cell_type": "markdown",
   "metadata": {
    "colab_type": "text",
    "id": "5DeQOItkeQCx"
   },
   "source": [
    "### 1) Tensor squeezing, unsqueezing and viewing"
   ]
  },
  {
   "attachments": {},
   "cell_type": "markdown",
   "metadata": {
    "colab_type": "text",
    "id": "pAOmBE5ODwpP"
   },
   "source": [
    "Tensor squeezing, unsqueezing and viewing are important methods to change the dimension of a Tensor, and the corresponding functions are [torch.squeeze](https://pytorch.org/docs/stable/torch.html#torch.squeeze), [torch.unsqueeze](https://pytorch.org/docs/stable/torch.html#torch.unsqueeze) and [torch.Tensor.view](https://pytorch.org/docs/stable/tensors.html#torch.Tensor.view). Please read the documents of the functions, and finish the following practice."
   ]
  },
  {
   "cell_type": "code",
   "execution_count": 3,
   "metadata": {
    "colab": {
     "base_uri": "https://localhost:8080/",
     "height": 70
    },
    "colab_type": "code",
    "id": "hVrM80YxFSjb",
    "outputId": "933f2576-b413-4516-a3f8-5fa4fbe60b38"
   },
   "outputs": [
    {
     "name": "stdout",
     "output_type": "stream",
     "text": [
      "torch.Size([3, 1, 2, 1])\n",
      "torch.Size([3, 2])\n",
      "torch.Size([6])\n"
     ]
    }
   ],
   "source": [
    "# x is a tensor with size being (3, 2)\n",
    "x = torch.Tensor([[1, 2], \n",
    "                  [3, 4], \n",
    "                  [5, 6]])\n",
    "x.shape\n",
    "\n",
    "# Add two new dimensions to x by using the function torch.unsqueeze, so that the size of x becomes (3, 1, 2, 1).\n",
    "x = torch.unsqueeze(x, 1)\n",
    "x = torch.unsqueeze(x, 3)\n",
    "print(x.shape)\n",
    "\n",
    "# Remove the two dimensions justed added by using the function torch.squeeze, and change the size of x back to (3, 2).\n",
    "x = torch.squeeze(x, 3)\n",
    "x = torch.squeeze(x, 1)\n",
    "# x = torch.squeeze(x, (0, 2)) # in torch 2.0 this will work \n",
    "print(x.shape)\n",
    "\n",
    "# x is now a two-dimensional tensor, or in other words a matrix. Now use the function torch.Tensor.view and change x to a one-dimensional vector with size being (6).\n",
    "x = x.view(6)\n",
    "print(x.shape)"
   ]
  },
  {
   "attachments": {},
   "cell_type": "markdown",
   "metadata": {
    "colab_type": "text",
    "id": "liuR-U0wea0n"
   },
   "source": [
    "### 2) Tensor concatenation and stack"
   ]
  },
  {
   "attachments": {},
   "cell_type": "markdown",
   "metadata": {
    "colab_type": "text",
    "id": "pkbnt6v8Bo-j"
   },
   "source": [
    "Tensor concatenation and stack are operations to combine small tensors into big tensors. The corresponding functions are [torch.cat](https://pytorch.org/docs/stable/torch.html#torch.cat) and [torch.stack](https://pytorch.org/docs/stable/torch.html#torch.stack). Please read the documents of the functions, and finish the following practice."
   ]
  },
  {
   "cell_type": "code",
   "execution_count": 4,
   "metadata": {
    "colab": {
     "base_uri": "https://localhost:8080/",
     "height": 70
    },
    "colab_type": "code",
    "id": "b9KqXu3Stfjh",
    "outputId": "97f17754-1e49-4a77-df8a-46a1200ea170"
   },
   "outputs": [
    {
     "name": "stdout",
     "output_type": "stream",
     "text": [
      "tensor([[1., 2.],\n",
      "        [3., 4.],\n",
      "        [5., 6.]])\n",
      "tensor([[-1., -2.],\n",
      "        [-3., -4.],\n",
      "        [-5., -6.]])\n"
     ]
    }
   ],
   "source": [
    "# x is a tensor with size being (3, 2)\n",
    "x = torch.Tensor([[1, 2], [3, 4], [5, 6]])\n",
    "\n",
    "# y is a tensor with size being (3, 2)\n",
    "y = torch.Tensor([[-1, -2], [-3, -4], [-5, -6]])\n",
    "\n",
    "# Our goal is to generate a tensor z with size as (2, 3, 2), and z[0,:,:] = x, z[1,:,:] = y.\n",
    "\n",
    "# Use torch.stack to generate such a z\n",
    "z = torch.stack((x, y))\n",
    "# print(z)\n",
    "print(z[0,:,:])\n",
    "\n",
    "# Use torch.cat and torch.unsqueeze to generate such a z\n",
    "# print('torch.unsqueeze(x, 0) = ', torch.unsqueeze(x, 0))\n",
    "z = torch.cat((torch.unsqueeze(x, 0), torch.unsqueeze(y, 0)))\n",
    "# print(z)\n",
    "print(z[1,:,:])"
   ]
  },
  {
   "attachments": {},
   "cell_type": "markdown",
   "metadata": {
    "colab_type": "text",
    "id": "WGw4eEo-eeHm"
   },
   "source": [
    "### 3) Tensor expansion"
   ]
  },
  {
   "attachments": {},
   "cell_type": "markdown",
   "metadata": {
    "colab_type": "text",
    "id": "KAII9eJgJFK2"
   },
   "source": [
    "Tensor expansion is to expand a tensor into a larger tensor along singleton dimensions. The corresponding functions are [torch.Tensor.expand](https://pytorch.org/docs/stable/tensors.html#torch.Tensor.expand) and [torch.Tensor.expand_as](https://pytorch.org/docs/stable/tensors.html#torch.Tensor.expand_as). Please read the documents of the functions, and finish the following practice. "
   ]
  },
  {
   "cell_type": "code",
   "execution_count": 5,
   "metadata": {
    "colab": {
     "base_uri": "https://localhost:8080/",
     "height": 69
    },
    "colab_type": "code",
    "id": "sQbFte-AJzVL",
    "outputId": "0505d6ed-fcff-40b1-d373-2510a4deb373"
   },
   "outputs": [
    {
     "name": "stdout",
     "output_type": "stream",
     "text": [
      "torch.Size([1, 3])\n",
      "torch.Size([2, 3])\n"
     ]
    }
   ],
   "source": [
    "# x is a tensor with size being (3)\n",
    "x = torch.Tensor([1, 2, 3])\n",
    "\n",
    "# Our goal is to generate a tensor z with size (2, 3), so that z[0,:,:] = x, z[1,:,:] = x.\n",
    "\n",
    "# [TO DO]\n",
    "# Change the size of x into (1, 3) by using torch.unsqueeze.\n",
    "x = torch.unsqueeze(x, 0)\n",
    "print(x.shape)\n",
    "\n",
    "# [TO DO]\n",
    "# Then expand the new tensor to the target tensor by using torch.Tensor.expand.\n",
    "z = x.expand(2, -1)\n",
    "# print(z)\n",
    "print(z.shape)"
   ]
  },
  {
   "attachments": {},
   "cell_type": "markdown",
   "metadata": {
    "colab_type": "text",
    "id": "0rFL_Shoef3m"
   },
   "source": [
    "### 4) Tensor reduction in a given dimension"
   ]
  },
  {
   "attachments": {},
   "cell_type": "markdown",
   "metadata": {
    "colab_type": "text",
    "id": "fmEoJVw0LL9H"
   },
   "source": [
    "In deep learning, we often need to compute the mean/sum/max/min value in a given dimension of a tensor. Please read the document of [torch.mean](https://pytorch.org/docs/stable/torch.html#torch.mean), [torch.sum](https://pytorch.org/docs/stable/torch.html#torch.sum), [torch.max](https://pytorch.org/docs/stable/torch.html#torch.max), [torch.min](https://pytorch.org/docs/stable/torch.html#torch.min), [torch.topk](https://pytorch.org/docs/stable/torch.html#torch.topk), and finish the following practice."
   ]
  },
  {
   "cell_type": "code",
   "execution_count": 6,
   "metadata": {
    "colab": {
     "base_uri": "https://localhost:8080/",
     "height": 87
    },
    "colab_type": "code",
    "id": "A7dlZwe4MNxo",
    "outputId": "1148ec88-6f73-4cdc-8471-40d431ca429b"
   },
   "outputs": [
    {
     "name": "stdout",
     "output_type": "stream",
     "text": [
      "tensor(0.2702)\n",
      "torch.Size([10])\n",
      "torch.Size([10])\n",
      "torch.Size([10])\n",
      "torch.Size([10, 5])\n"
     ]
    }
   ],
   "source": [
    "# x is a random tensor with size being (10, 50)\n",
    "x = torch.randn(10, 50)\n",
    "\n",
    "# Compute the mean value for each row of x.\n",
    "# You need to generate a tensor x_mean of size (10), and x_mean[k, :] is the mean value of the k-th row of x.\n",
    "\n",
    "# dim = 1: eliminate the second(1)'s dimension\n",
    "\n",
    "x_mean = torch.mean(x, dim=1)\n",
    "# print(x_mean)\n",
    "print(x_mean[3, ])\n",
    "\n",
    "# Compute the sum value for each row of x.\n",
    "# You need to generate a tensor x_sum of size (10).\n",
    "x_sum = torch.sum(x, dim=1)\n",
    "print(x_sum.shape)\n",
    "\n",
    "# Compute the max value for each row of x.\n",
    "# You need to generate a tensor x_max of size (10).\n",
    "(x_max, indices) = torch.max(x, dim=1)\n",
    "# print(x_max, indices)\n",
    "print(x_max.shape)\n",
    "\n",
    "# Compute the min value for each row of x.\n",
    "# You need to generate a tensor x_min of size (10).\n",
    "(x_min, indices) = torch.min(x, dim=1)\n",
    "print(x_min.shape)\n",
    "\n",
    "# Compute the top-5 values for each row of x.\n",
    "# (wrong) You need to generate a tensor x_mean of size (10, 5), and x_top[k, :] is the top-5 values of each row in x.\n",
    "# (right) You need to generate a tensor, top-5 values of each row\n",
    "(x_xtop, indices) = torch.topk(x, k=5, dim=1)\n",
    "print((x_xtop.shape))"
   ]
  },
  {
   "attachments": {},
   "cell_type": "markdown",
   "metadata": {
    "colab_type": "text",
    "id": "I49qjiqHB9oa"
   },
   "source": [
    "## Convolutional Neural Networks\n",
    "\n"
   ]
  },
  {
   "attachments": {},
   "cell_type": "markdown",
   "metadata": {
    "colab_type": "text",
    "id": "JePbG5pSt1xv"
   },
   "source": [
    "Implement a convolutional neural network for image classification on CIFAR-10 dataset.\n",
    "\n",
    "CIFAR-10 is an image dataset of 10 categories. Each image has a size of 32x32 pixels. The following code will download the dataset, and split it into `train` and `test`. For this question, we use the default validation split generated by Skorch."
   ]
  },
  {
   "cell_type": "code",
   "execution_count": 7,
   "metadata": {
    "colab": {
     "base_uri": "https://localhost:8080/",
     "height": 120,
     "referenced_widgets": [
      "310efd92386a4757a767d5204b08a865",
      "8346dadd8dcd437f9d0c73a8e86d4503",
      "87cad6ba7ef84d03a7f8c0cb37ec01ec",
      "b712d5d1ba464a378c00dbb2aec6dd8c",
      "0f3b4a3b037d47cb8ba1196d7dbd3b98",
      "3f3ef2c146bf4dd38424170b3090b055",
      "adbb9a799ba44a91b927b44d0c27e6d1",
      "44a89539615b4132a01ca7f5223ca281"
     ]
    },
    "colab_type": "code",
    "id": "sQxOUQ29BuMB",
    "outputId": "fe539e24-4cd1-42ef-8bda-9ec1a0accd54"
   },
   "outputs": [
    {
     "name": "stdout",
     "output_type": "stream",
     "text": [
      "Files already downloaded and verified\n",
      "Files already downloaded and verified\n"
     ]
    }
   ],
   "source": [
    "train = torchvision.datasets.CIFAR10(\"./data\", train=True, download=True)\n",
    "test = torchvision.datasets.CIFAR10(\"./data\", train=False, download=True)"
   ]
  },
  {
   "attachments": {},
   "cell_type": "markdown",
   "metadata": {
    "colab_type": "text",
    "id": "ieBpiwMwi6wD"
   },
   "source": [
    "The following code visualizes some samples in the dataset. You may use it to debug your model if necessary."
   ]
  },
  {
   "cell_type": "code",
   "execution_count": 8,
   "metadata": {
    "colab": {
     "base_uri": "https://localhost:8080/",
     "height": 108
    },
    "colab_type": "code",
    "id": "cU5HrxybupyJ",
    "outputId": "c9568768-b950-40b7-c16a-9d21a0969075"
   },
   "outputs": [
    {
     "data": {
      "image/png": "[encoded data removed]",
      "text/plain": [
       "<Figure size 432x288 with 5 Axes>"
      ]
     },
     "metadata": {},
     "output_type": "display_data"
    }
   ],
   "source": [
    "def plot(data, labels=None, num_sample=5):\n",
    "  n = min(len(data), num_sample)\n",
    "  for i in range(n):\n",
    "    plt.subplot(1, n, i+1)\n",
    "    plt.imshow(data[i], cmap=\"gray\")\n",
    "    plt.xticks([])\n",
    "    plt.yticks([])\n",
    "    if labels is not None:\n",
    "      plt.title(labels[i])\n",
    "\n",
    "train.labels = [train.classes[target] for target in train.targets]\n",
    "plot(train.data, train.labels)"
   ]
  },
  {
   "attachments": {},
   "cell_type": "markdown",
   "metadata": {
    "colab_type": "text",
    "id": "JwzKmdcuCv1D"
   },
   "source": [
    "### 1) Basic CNN implementation\n"
   ]
  },
  {
   "attachments": {},
   "cell_type": "markdown",
   "metadata": {
    "colab_type": "text",
    "id": "TbEYo5WgjTtm"
   },
   "source": [
    "Consider a basic CNN model\n",
    "\n",
    "- It has 3 convolutional layers, followed by a linear layer.\n",
    "- Each convolutional layer has a kernel size of 3, a padding of 1.\n",
    "- ReLU activation is applied on every hidden layer.\n",
    "\n",
    "Please implement this model in the following section. The hyperparameters is then be tuned and you need to fill the results in the table."
   ]
  },
  {
   "attachments": {},
   "cell_type": "markdown",
   "metadata": {
    "colab_type": "text",
    "id": "OZKyE2GUfL-Z"
   },
   "source": [
    "#### a) Implement convolutional layers (10 Points)"
   ]
  },
  {
   "attachments": {},
   "cell_type": "markdown",
   "metadata": {
    "colab_type": "text",
    "id": "4P_aYytExtq9"
   },
   "source": [
    "Implement the initialization function and the forward function of the CNN."
   ]
  },
  {
   "cell_type": "code",
   "execution_count": 9,
   "metadata": {
    "colab": {},
    "colab_type": "code",
    "id": "sDmCKUD1LBFk"
   },
   "outputs": [],
   "source": [
    "class CNN(nn.Module):\n",
    "  def __init__(self, channels):\n",
    "    super(CNN, self).__init__()\n",
    "    # implement parameter definitions here\n",
    "    # *****START OF YOUR CODE (DO NOT DELETE/MODIFY THIS LINE)*****\n",
    "    \n",
    "    # print('channels = ', channels)\n",
    "    self.channels = channels\n",
    "\n",
    "    self.backbone = nn.Sequential(\n",
    "        nn.Conv2d(3, channels, kernel_size=3, padding=1),\n",
    "        nn.ReLU(),\n",
    "\n",
    "        nn.Conv2d(channels, channels, kernel_size=3, padding=1),\n",
    "        nn.ReLU(),\n",
    "\n",
    "        nn.Conv2d(channels, channels, kernel_size=3, padding=1),\n",
    "        nn.ReLU(),\n",
    "    )\n",
    "\n",
    "    # regard the image has the same size 32 * 32\n",
    "    self.f1 = nn.Linear(channels * 32 * 32, 10)\n",
    "\n",
    "    # *****END OF YOUR CODE (DO NOT DELETE/MODIFY THIS LINE)*****\n",
    "  \n",
    "  def forward(self, images):\n",
    "    # implement the forward function here\n",
    "    # *****START OF YOUR CODE (DO NOT DELETE/MODIFY THIS LINE)*****\n",
    "\n",
    "    images = self.backbone(images)\n",
    "\n",
    "    # flatten the image\n",
    "    images = images.view(images.shape[0], -1)\n",
    "    images = self.f1(images)\n",
    "\n",
    "    # *****END OF YOUR CODE (DO NOT DELETE/MODIFY THIS LINE)*****\n",
    "    return images"
   ]
  },
  {
   "attachments": {},
   "cell_type": "markdown",
   "metadata": {
    "colab_type": "text",
    "id": "E_YaASPpgRiL"
   },
   "source": [
    "#### b) Tune hyperparameters"
   ]
  },
  {
   "attachments": {},
   "cell_type": "markdown",
   "metadata": {
    "colab_type": "text",
    "id": "ygMcDdpy6XWP"
   },
   "source": [
    "Train the CNN model on CIFAR-10 dataset. We can tune the number of channels, optimizer, learning rate and the number of epochs for best validation accuracy."
   ]
  },
  {
   "cell_type": "code",
   "execution_count": 10,
   "metadata": {
    "colab": {
     "base_uri": "https://localhost:8080/",
     "height": 1000
    },
    "colab_type": "code",
    "id": "JUaguxFA5xOp",
    "outputId": "e74d78b8-10c0-414a-93d4-128f8ca4b2fd"
   },
   "outputs": [
    {
     "name": "stdout",
     "output_type": "stream",
     "text": [
      "The channel was 128, the learning rate was 0.001 and the optimizer was <class 'torch.optim.sgd.SGD'>\n",
      "  epoch    train_loss    valid_acc    valid_loss     dur\n",
      "-------  ------------  -----------  ------------  ------\n",
      "      1        \u001b[36m2.1158\u001b[0m       \u001b[32m0.3160\u001b[0m        \u001b[35m1.9293\u001b[0m  8.0129\n",
      "      2        \u001b[36m1.8676\u001b[0m       \u001b[32m0.3645\u001b[0m        \u001b[35m1.8060\u001b[0m  7.0036\n",
      "      3        \u001b[36m1.7704\u001b[0m       \u001b[32m0.3984\u001b[0m        \u001b[35m1.7152\u001b[0m  7.0300\n",
      "      4        \u001b[36m1.6917\u001b[0m       \u001b[32m0.4253\u001b[0m        \u001b[35m1.6462\u001b[0m  7.0520\n",
      "      5        \u001b[36m1.6336\u001b[0m       \u001b[32m0.4405\u001b[0m        \u001b[35m1.5969\u001b[0m  7.0703\n",
      "      6        \u001b[36m1.5857\u001b[0m       \u001b[32m0.4537\u001b[0m        \u001b[35m1.5550\u001b[0m  7.0006\n",
      "      7        \u001b[36m1.5434\u001b[0m       \u001b[32m0.4653\u001b[0m        \u001b[35m1.5178\u001b[0m  7.0303\n",
      "      8        \u001b[36m1.5062\u001b[0m       \u001b[32m0.4777\u001b[0m        \u001b[35m1.4855\u001b[0m  6.9867\n",
      "      9        \u001b[36m1.4740\u001b[0m       \u001b[32m0.4851\u001b[0m        \u001b[35m1.4584\u001b[0m  7.0018\n",
      "     10        \u001b[36m1.4458\u001b[0m       \u001b[32m0.4927\u001b[0m        \u001b[35m1.4353\u001b[0m  7.0111\n",
      "     11        \u001b[36m1.4201\u001b[0m       \u001b[32m0.4999\u001b[0m        \u001b[35m1.4149\u001b[0m  7.0238\n",
      "     12        \u001b[36m1.3961\u001b[0m       \u001b[32m0.5051\u001b[0m        \u001b[35m1.3962\u001b[0m  7.0131\n",
      "     13        \u001b[36m1.3729\u001b[0m       \u001b[32m0.5109\u001b[0m        \u001b[35m1.3787\u001b[0m  7.0701\n",
      "     14        \u001b[36m1.3496\u001b[0m       \u001b[32m0.5166\u001b[0m        \u001b[35m1.3605\u001b[0m  7.0898\n",
      "     15        \u001b[36m1.3254\u001b[0m       \u001b[32m0.5228\u001b[0m        \u001b[35m1.3404\u001b[0m  7.0641\n",
      "     16        \u001b[36m1.3003\u001b[0m       \u001b[32m0.5288\u001b[0m        \u001b[35m1.3189\u001b[0m  7.0448\n",
      "     17        \u001b[36m1.2751\u001b[0m       \u001b[32m0.5329\u001b[0m        \u001b[35m1.2981\u001b[0m  7.0350\n",
      "     18        \u001b[36m1.2510\u001b[0m       \u001b[32m0.5411\u001b[0m        \u001b[35m1.2792\u001b[0m  7.0506\n",
      "     19        \u001b[36m1.2286\u001b[0m       \u001b[32m0.5472\u001b[0m        \u001b[35m1.2625\u001b[0m  7.0371\n",
      "     20        \u001b[36m1.2082\u001b[0m       \u001b[32m0.5523\u001b[0m        \u001b[35m1.2481\u001b[0m  7.0452\n",
      "     21        \u001b[36m1.1893\u001b[0m       \u001b[32m0.5558\u001b[0m        \u001b[35m1.2354\u001b[0m  7.0610\n",
      "     22        \u001b[36m1.1714\u001b[0m       \u001b[32m0.5615\u001b[0m        \u001b[35m1.2241\u001b[0m  7.0859\n",
      "     23        \u001b[36m1.1543\u001b[0m       \u001b[32m0.5647\u001b[0m        \u001b[35m1.2139\u001b[0m  7.0981\n",
      "     24        \u001b[36m1.1376\u001b[0m       \u001b[32m0.5670\u001b[0m        \u001b[35m1.2042\u001b[0m  7.1177\n",
      "     25        \u001b[36m1.1213\u001b[0m       \u001b[32m0.5722\u001b[0m        \u001b[35m1.1951\u001b[0m  7.1225\n",
      "     26        \u001b[36m1.1052\u001b[0m       \u001b[32m0.5741\u001b[0m        \u001b[35m1.1863\u001b[0m  7.1420\n",
      "     27        \u001b[36m1.0892\u001b[0m       \u001b[32m0.5781\u001b[0m        \u001b[35m1.1781\u001b[0m  7.1389\n",
      "     28        \u001b[36m1.0733\u001b[0m       \u001b[32m0.5832\u001b[0m        \u001b[35m1.1701\u001b[0m  7.1626\n",
      "     29        \u001b[36m1.0574\u001b[0m       \u001b[32m0.5866\u001b[0m        \u001b[35m1.1624\u001b[0m  7.1693\n",
      "     30        \u001b[36m1.0415\u001b[0m       \u001b[32m0.5895\u001b[0m        \u001b[35m1.1553\u001b[0m  7.1629\n",
      "     31        \u001b[36m1.0258\u001b[0m       \u001b[32m0.5915\u001b[0m        \u001b[35m1.1485\u001b[0m  7.1485\n",
      "     32        \u001b[36m1.0102\u001b[0m       \u001b[32m0.5954\u001b[0m        \u001b[35m1.1422\u001b[0m  7.1612\n",
      "     33        \u001b[36m0.9948\u001b[0m       \u001b[32m0.5981\u001b[0m        \u001b[35m1.1362\u001b[0m  7.1532\n",
      "     34        \u001b[36m0.9796\u001b[0m       \u001b[32m0.6016\u001b[0m        \u001b[35m1.1305\u001b[0m  7.1491\n",
      "     35        \u001b[36m0.9645\u001b[0m       \u001b[32m0.6052\u001b[0m        \u001b[35m1.1253\u001b[0m  7.1466\n",
      "     36        \u001b[36m0.9495\u001b[0m       \u001b[32m0.6078\u001b[0m        \u001b[35m1.1203\u001b[0m  7.1506\n",
      "     37        \u001b[36m0.9347\u001b[0m       \u001b[32m0.6089\u001b[0m        \u001b[35m1.1159\u001b[0m  7.1595\n",
      "     38        \u001b[36m0.9200\u001b[0m       \u001b[32m0.6109\u001b[0m        \u001b[35m1.1117\u001b[0m  7.1716\n",
      "     39        \u001b[36m0.9054\u001b[0m       \u001b[32m0.6129\u001b[0m        \u001b[35m1.1079\u001b[0m  7.1662\n",
      "     40        \u001b[36m0.8907\u001b[0m       \u001b[32m0.6141\u001b[0m        \u001b[35m1.1043\u001b[0m  7.1629\n",
      "     41        \u001b[36m0.8761\u001b[0m       \u001b[32m0.6160\u001b[0m        \u001b[35m1.1011\u001b[0m  7.1744\n",
      "     42        \u001b[36m0.8615\u001b[0m       \u001b[32m0.6161\u001b[0m        \u001b[35m1.0983\u001b[0m  7.1671\n",
      "     43        \u001b[36m0.8469\u001b[0m       \u001b[32m0.6193\u001b[0m        \u001b[35m1.0959\u001b[0m  7.1680\n",
      "     44        \u001b[36m0.8323\u001b[0m       \u001b[32m0.6205\u001b[0m        \u001b[35m1.0939\u001b[0m  7.1720\n",
      "     45        \u001b[36m0.8176\u001b[0m       \u001b[32m0.6211\u001b[0m        \u001b[35m1.0921\u001b[0m  7.1611\n",
      "     46        \u001b[36m0.8030\u001b[0m       \u001b[32m0.6235\u001b[0m        \u001b[35m1.0907\u001b[0m  7.1709\n",
      "     47        \u001b[36m0.7884\u001b[0m       \u001b[32m0.6242\u001b[0m        \u001b[35m1.0898\u001b[0m  7.1742\n",
      "     48        \u001b[36m0.7738\u001b[0m       \u001b[32m0.6250\u001b[0m        \u001b[35m1.0895\u001b[0m  7.1943\n",
      "     49        \u001b[36m0.7593\u001b[0m       \u001b[32m0.6255\u001b[0m        1.0895  7.1965\n",
      "     50        \u001b[36m0.7448\u001b[0m       \u001b[32m0.6266\u001b[0m        1.0902  7.1881\n",
      "The channel was 256, the learning rate was 0.001 and the optimizer was <class 'torch.optim.sgd.SGD'>\n",
      "  epoch    train_loss    valid_acc    valid_loss      dur\n",
      "-------  ------------  -----------  ------------  -------\n",
      "      1        \u001b[36m2.0442\u001b[0m       \u001b[32m0.3434\u001b[0m        \u001b[35m1.8783\u001b[0m  16.4868\n",
      "      2        \u001b[36m1.8054\u001b[0m       \u001b[32m0.3976\u001b[0m        \u001b[35m1.7304\u001b[0m  16.5860\n",
      "      3        \u001b[36m1.7004\u001b[0m       \u001b[32m0.4273\u001b[0m        \u001b[35m1.6449\u001b[0m  16.6578\n",
      "      4        \u001b[36m1.6279\u001b[0m       \u001b[32m0.4455\u001b[0m        \u001b[35m1.5829\u001b[0m  16.6932\n",
      "      5        \u001b[36m1.5640\u001b[0m       \u001b[32m0.4653\u001b[0m        \u001b[35m1.5236\u001b[0m  16.7557\n",
      "      6        \u001b[36m1.5044\u001b[0m       \u001b[32m0.4785\u001b[0m        \u001b[35m1.4709\u001b[0m  16.7104\n",
      "      7        \u001b[36m1.4544\u001b[0m       \u001b[32m0.4940\u001b[0m        \u001b[35m1.4321\u001b[0m  16.7861\n",
      "      8        \u001b[36m1.4143\u001b[0m       \u001b[32m0.5052\u001b[0m        \u001b[35m1.4030\u001b[0m  16.7697\n",
      "      9        \u001b[36m1.3789\u001b[0m       \u001b[32m0.5118\u001b[0m        \u001b[35m1.3771\u001b[0m  16.7234\n",
      "     10        \u001b[36m1.3442\u001b[0m       \u001b[32m0.5204\u001b[0m        \u001b[35m1.3506\u001b[0m  16.7258\n",
      "     11        \u001b[36m1.3091\u001b[0m       \u001b[32m0.5285\u001b[0m        \u001b[35m1.3241\u001b[0m  16.5999\n",
      "     12        \u001b[36m1.2755\u001b[0m       \u001b[32m0.5356\u001b[0m        \u001b[35m1.3007\u001b[0m  16.5341\n",
      "     13        \u001b[36m1.2457\u001b[0m       \u001b[32m0.5426\u001b[0m        \u001b[35m1.2806\u001b[0m  16.4736\n",
      "     14        \u001b[36m1.2194\u001b[0m       \u001b[32m0.5506\u001b[0m        \u001b[35m1.2631\u001b[0m  16.4122\n",
      "     15        \u001b[36m1.1957\u001b[0m       \u001b[32m0.5565\u001b[0m        \u001b[35m1.2472\u001b[0m  16.3709\n",
      "     16        \u001b[36m1.1736\u001b[0m       \u001b[32m0.5612\u001b[0m        \u001b[35m1.2330\u001b[0m  16.4181\n",
      "     17        \u001b[36m1.1525\u001b[0m       \u001b[32m0.5658\u001b[0m        \u001b[35m1.2197\u001b[0m  16.4600\n",
      "     18        \u001b[36m1.1320\u001b[0m       \u001b[32m0.5706\u001b[0m        \u001b[35m1.2072\u001b[0m  16.4435\n",
      "     19        \u001b[36m1.1117\u001b[0m       \u001b[32m0.5745\u001b[0m        \u001b[35m1.1960\u001b[0m  16.4278\n",
      "     20        \u001b[36m1.0917\u001b[0m       \u001b[32m0.5785\u001b[0m        \u001b[35m1.1856\u001b[0m  16.4144\n",
      "     21        \u001b[36m1.0720\u001b[0m       \u001b[32m0.5834\u001b[0m        \u001b[35m1.1760\u001b[0m  16.4010\n",
      "     22        \u001b[36m1.0525\u001b[0m       \u001b[32m0.5882\u001b[0m        \u001b[35m1.1671\u001b[0m  16.3734\n",
      "     23        \u001b[36m1.0335\u001b[0m       \u001b[32m0.5924\u001b[0m        \u001b[35m1.1589\u001b[0m  16.3465\n",
      "     24        \u001b[36m1.0148\u001b[0m       \u001b[32m0.5960\u001b[0m        \u001b[35m1.1515\u001b[0m  16.3348\n",
      "     25        \u001b[36m0.9964\u001b[0m       \u001b[32m0.5974\u001b[0m        \u001b[35m1.1447\u001b[0m  16.3804\n",
      "     26        \u001b[36m0.9784\u001b[0m       \u001b[32m0.5993\u001b[0m        \u001b[35m1.1385\u001b[0m  16.3272\n",
      "     27        \u001b[36m0.9607\u001b[0m       \u001b[32m0.6022\u001b[0m        \u001b[35m1.1328\u001b[0m  16.3608\n",
      "     28        \u001b[36m0.9431\u001b[0m       \u001b[32m0.6049\u001b[0m        \u001b[35m1.1276\u001b[0m  16.3947\n",
      "     29        \u001b[36m0.9255\u001b[0m       \u001b[32m0.6067\u001b[0m        \u001b[35m1.1225\u001b[0m  16.4668\n",
      "     30        \u001b[36m0.9080\u001b[0m       \u001b[32m0.6086\u001b[0m        \u001b[35m1.1179\u001b[0m  16.5375\n",
      "     31        \u001b[36m0.8904\u001b[0m       0.6086        \u001b[35m1.1137\u001b[0m  16.5316\n",
      "     32        \u001b[36m0.8726\u001b[0m       \u001b[32m0.6107\u001b[0m        \u001b[35m1.1097\u001b[0m  16.6019\n",
      "     33        \u001b[36m0.8547\u001b[0m       \u001b[32m0.6129\u001b[0m        \u001b[35m1.1059\u001b[0m  16.6545\n",
      "     34        \u001b[36m0.8366\u001b[0m       \u001b[32m0.6152\u001b[0m        \u001b[35m1.1026\u001b[0m  16.6232\n",
      "     35        \u001b[36m0.8184\u001b[0m       \u001b[32m0.6159\u001b[0m        \u001b[35m1.0996\u001b[0m  16.6570\n",
      "     36        \u001b[36m0.8000\u001b[0m       \u001b[32m0.6172\u001b[0m        \u001b[35m1.0973\u001b[0m  16.5988\n",
      "     37        \u001b[36m0.7814\u001b[0m       \u001b[32m0.6189\u001b[0m        \u001b[35m1.0957\u001b[0m  16.5260\n",
      "     38        \u001b[36m0.7628\u001b[0m       \u001b[32m0.6214\u001b[0m        \u001b[35m1.0950\u001b[0m  16.5240\n",
      "     39        \u001b[36m0.7441\u001b[0m       \u001b[32m0.6227\u001b[0m        1.0952  16.4719\n",
      "     40        \u001b[36m0.7254\u001b[0m       0.6224        1.0965  16.4138\n",
      "     41        \u001b[36m0.7067\u001b[0m       0.6222        1.0988  16.4675\n",
      "     42        \u001b[36m0.6880\u001b[0m       0.6223        1.1025  16.4783\n",
      "Stopping since valid_loss has not improved in the last 5 epochs.\n",
      "The channel was 512, the learning rate was 0.001 and the optimizer was <class 'torch.optim.sgd.SGD'>\n",
      "  epoch    train_loss    valid_acc    valid_loss      dur\n",
      "-------  ------------  -----------  ------------  -------\n",
      "      1        \u001b[36m1.9867\u001b[0m       \u001b[32m0.3623\u001b[0m        \u001b[35m1.8191\u001b[0m  46.1175\n",
      "      2        \u001b[36m1.7513\u001b[0m       \u001b[32m0.4171\u001b[0m        \u001b[35m1.6693\u001b[0m  46.1142\n",
      "      3        \u001b[36m1.6400\u001b[0m       \u001b[32m0.4468\u001b[0m        \u001b[35m1.5838\u001b[0m  45.7091\n",
      "      4        \u001b[36m1.5603\u001b[0m       \u001b[32m0.4680\u001b[0m        \u001b[35m1.5144\u001b[0m  45.3723\n",
      "      5        \u001b[36m1.4935\u001b[0m       \u001b[32m0.4853\u001b[0m        \u001b[35m1.4582\u001b[0m  45.4629\n",
      "      6        \u001b[36m1.4396\u001b[0m       \u001b[32m0.5000\u001b[0m        \u001b[35m1.4170\u001b[0m  45.4543\n",
      "      7        \u001b[36m1.3952\u001b[0m       \u001b[32m0.5077\u001b[0m        \u001b[35m1.3844\u001b[0m  45.3653\n",
      "      8        \u001b[36m1.3541\u001b[0m       \u001b[32m0.5188\u001b[0m        \u001b[35m1.3529\u001b[0m  45.4058\n",
      "      9        \u001b[36m1.3127\u001b[0m       \u001b[32m0.5287\u001b[0m        \u001b[35m1.3208\u001b[0m  45.8955\n",
      "     10        \u001b[36m1.2729\u001b[0m       \u001b[32m0.5375\u001b[0m        \u001b[35m1.2915\u001b[0m  46.3144\n",
      "     11        \u001b[36m1.2376\u001b[0m       \u001b[32m0.5454\u001b[0m        \u001b[35m1.2668\u001b[0m  46.4242\n",
      "     12        \u001b[36m1.2072\u001b[0m       \u001b[32m0.5545\u001b[0m        \u001b[35m1.2464\u001b[0m  46.3143\n",
      "     13        \u001b[36m1.1800\u001b[0m       \u001b[32m0.5601\u001b[0m        \u001b[35m1.2289\u001b[0m  45.7325\n",
      "     14        \u001b[36m1.1545\u001b[0m       \u001b[32m0.5658\u001b[0m        \u001b[35m1.2133\u001b[0m  45.9819\n",
      "     15        \u001b[36m1.1300\u001b[0m       \u001b[32m0.5724\u001b[0m        \u001b[35m1.1989\u001b[0m  45.9304\n",
      "     16        \u001b[36m1.1059\u001b[0m       \u001b[32m0.5773\u001b[0m        \u001b[35m1.1857\u001b[0m  45.4933\n",
      "     17        \u001b[36m1.0821\u001b[0m       \u001b[32m0.5817\u001b[0m        \u001b[35m1.1732\u001b[0m  45.3715\n",
      "     18        \u001b[36m1.0587\u001b[0m       \u001b[32m0.5876\u001b[0m        \u001b[35m1.1618\u001b[0m  45.4426\n",
      "     19        \u001b[36m1.0358\u001b[0m       \u001b[32m0.5915\u001b[0m        \u001b[35m1.1513\u001b[0m  45.5602\n",
      "     20        \u001b[36m1.0134\u001b[0m       \u001b[32m0.5973\u001b[0m        \u001b[35m1.1418\u001b[0m  46.1363\n",
      "     21        \u001b[36m0.9915\u001b[0m       \u001b[32m0.6005\u001b[0m        \u001b[35m1.1330\u001b[0m  46.3644\n",
      "     22        \u001b[36m0.9700\u001b[0m       \u001b[32m0.6039\u001b[0m        \u001b[35m1.1250\u001b[0m  45.7330\n",
      "     23        \u001b[36m0.9487\u001b[0m       \u001b[32m0.6072\u001b[0m        \u001b[35m1.1174\u001b[0m  45.8170\n",
      "     24        \u001b[36m0.9277\u001b[0m       \u001b[32m0.6107\u001b[0m        \u001b[35m1.1103\u001b[0m  45.4220\n",
      "     25        \u001b[36m0.9067\u001b[0m       \u001b[32m0.6116\u001b[0m        \u001b[35m1.1037\u001b[0m  45.4124\n",
      "     26        \u001b[36m0.8858\u001b[0m       \u001b[32m0.6138\u001b[0m        \u001b[35m1.0975\u001b[0m  45.3856\n",
      "     27        \u001b[36m0.8651\u001b[0m       \u001b[32m0.6175\u001b[0m        \u001b[35m1.0919\u001b[0m  45.7772\n",
      "     28        \u001b[36m0.8444\u001b[0m       \u001b[32m0.6187\u001b[0m        \u001b[35m1.0870\u001b[0m  46.3898\n",
      "     29        \u001b[36m0.8239\u001b[0m       \u001b[32m0.6195\u001b[0m        \u001b[35m1.0828\u001b[0m  46.3944\n",
      "     30        \u001b[36m0.8035\u001b[0m       \u001b[32m0.6216\u001b[0m        \u001b[35m1.0797\u001b[0m  46.1950\n",
      "     31        \u001b[36m0.7833\u001b[0m       \u001b[32m0.6235\u001b[0m        \u001b[35m1.0776\u001b[0m  45.4395\n",
      "     32        \u001b[36m0.7632\u001b[0m       \u001b[32m0.6250\u001b[0m        \u001b[35m1.0765\u001b[0m  45.5423\n",
      "     33        \u001b[36m0.7433\u001b[0m       \u001b[32m0.6255\u001b[0m        1.0766  45.4350\n",
      "     34        \u001b[36m0.7235\u001b[0m       \u001b[32m0.6264\u001b[0m        1.0779  45.3818\n",
      "     35        \u001b[36m0.7037\u001b[0m       \u001b[32m0.6283\u001b[0m        1.0803  45.3848\n",
      "     36        \u001b[36m0.6839\u001b[0m       \u001b[32m0.6295\u001b[0m        1.0839  45.7210\n",
      "Stopping since valid_loss has not improved in the last 5 epochs.\n",
      "The channel was 128, the learning rate was 0.001 and the optimizer was <class 'torch.optim.adam.Adam'>\n",
      "  epoch    train_loss    valid_acc    valid_loss     dur\n",
      "-------  ------------  -----------  ------------  ------\n",
      "      1        \u001b[36m1.4839\u001b[0m       \u001b[32m0.5829\u001b[0m        \u001b[35m1.1889\u001b[0m  7.5850\n",
      "      2        \u001b[36m1.0473\u001b[0m       \u001b[32m0.6502\u001b[0m        \u001b[35m1.0072\u001b[0m  7.5615\n",
      "      3        \u001b[36m0.8172\u001b[0m       0.6484        1.0422  7.5612\n",
      "      4        \u001b[36m0.6176\u001b[0m       0.6250        1.2363  7.5515\n",
      "      5        \u001b[36m0.4350\u001b[0m       0.5978        1.5414  7.5729\n",
      "      6        \u001b[36m0.3217\u001b[0m       0.6011        1.8818  7.5781\n",
      "Stopping since valid_loss has not improved in the last 5 epochs.\n",
      "The channel was 256, the learning rate was 0.001 and the optimizer was <class 'torch.optim.adam.Adam'>\n",
      "  epoch    train_loss    valid_acc    valid_loss      dur\n",
      "-------  ------------  -----------  ------------  -------\n",
      "      1        \u001b[36m1.7182\u001b[0m       \u001b[32m0.5077\u001b[0m        \u001b[35m1.3801\u001b[0m  16.8513\n",
      "      2        \u001b[36m1.2644\u001b[0m       \u001b[32m0.5565\u001b[0m        \u001b[35m1.2567\u001b[0m  16.8689\n",
      "      3        \u001b[36m1.0805\u001b[0m       \u001b[32m0.5825\u001b[0m        \u001b[35m1.1950\u001b[0m  16.9014\n",
      "      4        \u001b[36m0.8733\u001b[0m       0.5819        1.2774  16.8458\n",
      "      5        \u001b[36m0.6655\u001b[0m       0.5767        1.5078  16.8153\n",
      "      6        \u001b[36m0.5032\u001b[0m       0.5598        1.8750  16.8164\n",
      "      7        \u001b[36m0.3858\u001b[0m       0.5273        2.4469  16.8811\n",
      "Stopping since valid_loss has not improved in the last 5 epochs.\n",
      "The channel was 512, the learning rate was 0.001 and the optimizer was <class 'torch.optim.adam.Adam'>\n",
      "  epoch    train_loss    valid_acc    valid_loss      dur\n",
      "-------  ------------  -----------  ------------  -------\n",
      "      1        \u001b[36m2.3566\u001b[0m       \u001b[32m0.1000\u001b[0m        \u001b[35m2.3026\u001b[0m  46.3657\n",
      "      2        \u001b[36m2.3028\u001b[0m       0.1000        2.3026  46.2071\n",
      "      3        2.3028       0.1000        2.3026  45.8301\n",
      "      4        2.3028       0.1000        2.3026  46.2545\n",
      "      5        2.3028       0.1000        2.3026  46.7461\n",
      "Stopping since valid_loss has not improved in the last 5 epochs.\n",
      "The channel was 128, the learning rate was 0.01 and the optimizer was <class 'torch.optim.sgd.SGD'>\n",
      "  epoch    train_loss    valid_acc    valid_loss     dur\n",
      "-------  ------------  -----------  ------------  ------\n",
      "      1        \u001b[36m1.7802\u001b[0m       \u001b[32m0.4473\u001b[0m        \u001b[35m1.5509\u001b[0m  7.2227\n",
      "      2        \u001b[36m1.4604\u001b[0m       \u001b[32m0.4953\u001b[0m        \u001b[35m1.3926\u001b[0m  7.1891\n",
      "      3        \u001b[36m1.3259\u001b[0m       \u001b[32m0.5312\u001b[0m        \u001b[35m1.2938\u001b[0m  7.1699\n",
      "      4        \u001b[36m1.2092\u001b[0m       \u001b[32m0.5520\u001b[0m        \u001b[35m1.2376\u001b[0m  7.1683\n",
      "      5        \u001b[36m1.1174\u001b[0m       \u001b[32m0.5713\u001b[0m        \u001b[35m1.1887\u001b[0m  7.1695\n",
      "      6        \u001b[36m1.0313\u001b[0m       \u001b[32m0.5887\u001b[0m        \u001b[35m1.1468\u001b[0m  7.1558\n",
      "      7        \u001b[36m0.9441\u001b[0m       \u001b[32m0.6095\u001b[0m        \u001b[35m1.1049\u001b[0m  7.1596\n",
      "      8        \u001b[36m0.8574\u001b[0m       \u001b[32m0.6212\u001b[0m        \u001b[35m1.0799\u001b[0m  7.1328\n",
      "      9        \u001b[36m0.7744\u001b[0m       \u001b[32m0.6294\u001b[0m        1.0816  7.1242\n",
      "     10        \u001b[36m0.6936\u001b[0m       \u001b[32m0.6324\u001b[0m        1.1068  7.1195\n",
      "     11        \u001b[36m0.6121\u001b[0m       0.6323        1.1574  7.1237\n",
      "     12        \u001b[36m0.5278\u001b[0m       0.6290        1.2431  7.1241\n",
      "Stopping since valid_loss has not improved in the last 5 epochs.\n",
      "The channel was 256, the learning rate was 0.01 and the optimizer was <class 'torch.optim.sgd.SGD'>\n",
      "  epoch    train_loss    valid_acc    valid_loss      dur\n",
      "-------  ------------  -----------  ------------  -------\n",
      "      1        \u001b[36m1.7304\u001b[0m       \u001b[32m0.4675\u001b[0m        \u001b[35m1.4906\u001b[0m  16.3829\n",
      "      2        \u001b[36m1.3863\u001b[0m       \u001b[32m0.5328\u001b[0m        \u001b[35m1.3044\u001b[0m  16.5476\n",
      "      3        \u001b[36m1.2254\u001b[0m       \u001b[32m0.5659\u001b[0m        \u001b[35m1.2175\u001b[0m  16.5300\n",
      "      4        \u001b[36m1.1000\u001b[0m       \u001b[32m0.5942\u001b[0m        \u001b[35m1.1371\u001b[0m  16.5410\n",
      "      5        \u001b[36m0.9843\u001b[0m       \u001b[32m0.6187\u001b[0m        \u001b[35m1.0781\u001b[0m  16.5368\n",
      "      6        \u001b[36m0.8811\u001b[0m       \u001b[32m0.6341\u001b[0m        \u001b[35m1.0504\u001b[0m  16.4840\n",
      "      7        \u001b[36m0.7862\u001b[0m       \u001b[32m0.6431\u001b[0m        \u001b[35m1.0436\u001b[0m  16.4648\n",
      "      8        \u001b[36m0.6937\u001b[0m       \u001b[32m0.6450\u001b[0m        1.0633  16.3988\n",
      "      9        \u001b[36m0.5998\u001b[0m       0.6420        1.1201  16.3038\n",
      "     10        \u001b[36m0.5008\u001b[0m       0.6338        1.2165  16.3112\n",
      "     11        \u001b[36m0.3968\u001b[0m       0.6297        1.3476  16.3209\n",
      "Stopping since valid_loss has not improved in the last 5 epochs.\n",
      "The channel was 512, the learning rate was 0.01 and the optimizer was <class 'torch.optim.sgd.SGD'>\n",
      "  epoch    train_loss    valid_acc    valid_loss      dur\n",
      "-------  ------------  -----------  ------------  -------\n",
      "      1        \u001b[36m1.7122\u001b[0m       \u001b[32m0.4814\u001b[0m        \u001b[35m1.4455\u001b[0m  45.7170\n",
      "      2        \u001b[36m1.3445\u001b[0m       \u001b[32m0.5414\u001b[0m        \u001b[35m1.2749\u001b[0m  45.8045\n",
      "      3        \u001b[36m1.1590\u001b[0m       \u001b[32m0.5824\u001b[0m        \u001b[35m1.1645\u001b[0m  46.0595\n",
      "      4        \u001b[36m1.0109\u001b[0m       \u001b[32m0.6085\u001b[0m        \u001b[35m1.0983\u001b[0m  46.3534\n",
      "      5        \u001b[36m0.8835\u001b[0m       \u001b[32m0.6283\u001b[0m        \u001b[35m1.0726\u001b[0m  46.3809\n",
      "      6        \u001b[36m0.7679\u001b[0m       \u001b[32m0.6391\u001b[0m        1.0765  46.4801\n",
      "      7        \u001b[36m0.6554\u001b[0m       0.6344        1.1211  46.4627\n",
      "      8        \u001b[36m0.5380\u001b[0m       0.6302        1.2184  45.9412\n",
      "      9        \u001b[36m0.4127\u001b[0m       0.6206        1.3871  45.4630\n",
      "Stopping since valid_loss has not improved in the last 5 epochs.\n",
      "The channel was 128, the learning rate was 0.01 and the optimizer was <class 'torch.optim.adam.Adam'>\n",
      "  epoch    train_loss    valid_acc    valid_loss     dur\n",
      "-------  ------------  -----------  ------------  ------\n",
      "      1        \u001b[36m2.9942\u001b[0m       \u001b[32m0.1000\u001b[0m        \u001b[35m2.3039\u001b[0m  7.4479\n",
      "      2        \u001b[36m2.3042\u001b[0m       0.1000        2.3039  7.4428\n",
      "      3        2.3042       0.1000        2.3039  7.4505\n",
      "      4        2.3042       0.1000        2.3039  7.4814\n",
      "      5        2.3042       0.1000        2.3039  7.4697\n",
      "Stopping since valid_loss has not improved in the last 5 epochs.\n",
      "The channel was 256, the learning rate was 0.01 and the optimizer was <class 'torch.optim.adam.Adam'>\n",
      "  epoch    train_loss    valid_acc    valid_loss      dur\n",
      "-------  ------------  -----------  ------------  -------\n",
      "      1        \u001b[36m8.8825\u001b[0m       \u001b[32m0.1000\u001b[0m        \u001b[35m2.3039\u001b[0m  16.5144\n",
      "      2        \u001b[36m2.3042\u001b[0m       0.1000        2.3039  16.7190\n",
      "      3        2.3042       0.1000        2.3039  16.8494\n",
      "      4        2.3042       0.1000        2.3039  16.9722\n",
      "      5        2.3042       0.1000        2.3039  17.0036\n",
      "Stopping since valid_loss has not improved in the last 5 epochs.\n",
      "The channel was 512, the learning rate was 0.01 and the optimizer was <class 'torch.optim.adam.Adam'>\n",
      "  epoch    train_loss    valid_acc    valid_loss      dur\n",
      "-------  ------------  -----------  ------------  -------\n",
      "      1       \u001b[36m55.4451\u001b[0m       \u001b[32m0.1000\u001b[0m        \u001b[35m2.3038\u001b[0m  46.9036\n",
      "      2        \u001b[36m2.3042\u001b[0m       0.1000        2.3039  46.8506\n",
      "      3        2.3042       0.1000        2.3039  46.5957\n",
      "      4        2.3042       0.1000        2.3039  45.6649\n",
      "      5        2.3042       0.1000        2.3039  45.5824\n",
      "Stopping since valid_loss has not improved in the last 5 epochs.\n"
     ]
    }
   ],
   "source": [
    "# implement hyperparameters, you can select and modify the hyperparameters by yourself here.\n",
    "\n",
    "optimizer = [torch.optim.SGD, torch.optim.Adam]\n",
    "learning_rate = [1e-3, 1e-2]\n",
    "channel = [128, 256, 512]\n",
    "\n",
    "train_data_normalized = torch.Tensor(train.data/255)\n",
    "train_data_normalized = train_data_normalized.permute(0,3,1,2)\n",
    "\n",
    "for l in learning_rate:\n",
    "  for o in optimizer: \n",
    "    for c in channel:\n",
    "      print(f'The channel was {c}, the learning rate was {l} and the optimizer was {str(o)}')\n",
    "\n",
    "      cnn = CNN(channels = c)\n",
    "      \n",
    "      model = skorch.NeuralNetClassifier(cnn, criterion=torch.nn.CrossEntropyLoss,\n",
    "                                   device=\"cuda\",\n",
    "                                   optimizer=o,\n",
    "                                  #  optimizer__momentum=0.90,\n",
    "                                   lr=l,\n",
    "                                   max_epochs=50,\n",
    "                                   batch_size=32,\n",
    "                                   callbacks=[skorch.callbacks.EarlyStopping(lower_is_better=True)])\n",
    "      # implement input normalization & type cast here \n",
    "      model.fit(train_data_normalized, np.asarray(train.targets))"
   ]
  },
  {
   "attachments": {},
   "cell_type": "markdown",
   "metadata": {
    "colab_type": "text",
    "id": "w-EHKzozkRbD"
   },
   "source": [
    "Write down **validation accuracy** of your model under different hyperparameter settings. Note the validation set is automatically split by Skorch during `model.fit()`.\n",
    "\n",
    "learning rate = $10^{-3}$:\n",
    "| #channel for each layer \\ optimizer |  SGD   |  Adam  |\n",
    "|:-----------------------------------:|:------:|:------:|\n",
    "|                $128$                |$0.6266$|**$0.6502$**|\n",
    "|                $256$                |$0.6227$|$0.5825$|\n",
    "|                $512$                |$0.6295$|$0.1000$|\n",
    "\n",
    "learning rate = $10^{-2}$:\n",
    "| #channel for each layer \\ optimizer |  SGD   |  Adam  |\n",
    "|:-----------------------------------:|:------:|:------:|\n",
    "|                $128$                |$0.6324$|$0.1000$|\n",
    "|                $256$                |$0.6450$|$0.1000$|\n",
    "|                $512$                |$0.6391$|$0.1000$|\n"
   ]
  },
  {
   "attachments": {},
   "cell_type": "markdown",
   "metadata": {
    "colab_type": "text",
    "id": "go55LVSJd-vG"
   },
   "source": [
    "### 2) Full CNN implementation (10 points)"
   ]
  },
  {
   "attachments": {},
   "cell_type": "markdown",
   "metadata": {
    "colab_type": "text",
    "id": "6G0eCj6OmOEE"
   },
   "source": [
    "Based on the CNN in the previous question, implement a full CNN model with max pooling layer.\n",
    "\n",
    "- Add a max pooling layer after each convolutional layer.\n",
    "- Each max pooling layer has a kernel size of 2 and a stride of 2.\n",
    "\n",
    "Please implement this model in the following section. The hyperparameters is then be tuned and fill the results in the table. You are also required to complete the questions."
   ]
  },
  {
   "attachments": {},
   "cell_type": "markdown",
   "metadata": {
    "colab_type": "text",
    "id": "bMrKGlMQhCa0"
   },
   "source": [
    "#### a) Implement max pooling layers"
   ]
  },
  {
   "attachments": {},
   "cell_type": "markdown",
   "metadata": {
    "colab_type": "text",
    "id": "g2INt6P3Myd1"
   },
   "source": [
    "Similar to the CNN implementation in previous question, implement max pooling layers."
   ]
  },
  {
   "cell_type": "code",
   "execution_count": 11,
   "metadata": {
    "colab": {},
    "colab_type": "code",
    "id": "DHu3Ic2dM1S9"
   },
   "outputs": [],
   "source": [
    "class CNN_MaxPool(nn.Module):\n",
    "  def __init__(self, channels):\n",
    "    super(CNN_MaxPool, self).__init__()\n",
    "    # implement parameter definitions here\n",
    "    # *****START OF YOUR CODE (DO NOT DELETE/MODIFY THIS LINE)*****\n",
    "\n",
    "    self.channels = channels\n",
    "\n",
    "    self.backbone = nn.Sequential(\n",
    "        nn.Conv2d(3, channels, kernel_size=3, padding=1),\n",
    "        nn.BatchNorm2d(channels),\n",
    "        nn.ReLU(),\n",
    "        nn.MaxPool2d(kernel_size=2, stride=2),\n",
    "        nn.Dropout2d(p=0.2),\n",
    "\n",
    "        nn.Conv2d(channels, channels, kernel_size=3, padding=1),\n",
    "        nn.BatchNorm2d(channels),\n",
    "        nn.ReLU(),\n",
    "        nn.MaxPool2d(kernel_size=2, stride=2),\n",
    "        nn.Dropout2d(p=0.2),\n",
    "\n",
    "        nn.Conv2d(channels, channels, kernel_size=3, padding=1),\n",
    "        nn.BatchNorm2d(channels),\n",
    "        nn.ReLU(),\n",
    "        nn.MaxPool2d(kernel_size=2, stride=2),\n",
    "        nn.Dropout2d(p=0.2)\n",
    "    )\n",
    "\n",
    "    # regard the image has the same size 32 * 32\n",
    "    # after 3 max pooling, the size is 32 / 2 / 2 / 2 = 4\n",
    "    self.f1 = nn.Linear(channels * 4 * 4, 10)\n",
    "\n",
    "    # *****END OF YOUR CODE (DO NOT DELETE/MODIFY THIS LINE)*****\n",
    "  \n",
    "  def forward(self, images):\n",
    "    # implement the forward function here\n",
    "    \n",
    "    images = self.backbone(images)\n",
    "    \n",
    "    # flatten the image\n",
    "    images = images.view(images.shape[0], -1)\n",
    "\n",
    "    images = self.f1(images)\n",
    "\n",
    "    # *****END OF YOUR CODE (DO NOT DELETE/MODIFY THIS LINE)*****\n",
    "    return images"
   ]
  },
  {
   "attachments": {},
   "cell_type": "markdown",
   "metadata": {
    "colab_type": "text",
    "id": "-A6AEOoigq68"
   },
   "source": [
    "#### b) Tune hyperparameters"
   ]
  },
  {
   "attachments": {},
   "cell_type": "markdown",
   "metadata": {
    "colab_type": "text",
    "id": "drH4MHSVNqwz"
   },
   "source": [
    "Based on the better optimizer found in the previous problem, we can tune the number of channels and learning rate for best validation accuracy."
   ]
  },
  {
   "cell_type": "code",
   "execution_count": 12,
   "metadata": {
    "colab": {
     "base_uri": "https://localhost:8080/",
     "height": 515
    },
    "colab_type": "code",
    "id": "7povzg-4Nhrr",
    "outputId": "edff26c7-6f98-49be-cac4-9e6ef53c83c7"
   },
   "outputs": [
    {
     "name": "stdout",
     "output_type": "stream",
     "text": [
      "The channel was 128, the learning rate was 0.0001\n",
      "  epoch    train_loss    valid_acc    valid_loss     dur\n",
      "-------  ------------  -----------  ------------  ------\n",
      "      1        \u001b[36m1.8045\u001b[0m       \u001b[32m0.4908\u001b[0m        \u001b[35m1.4717\u001b[0m  3.2317\n",
      "      2        \u001b[36m1.4935\u001b[0m       \u001b[32m0.5442\u001b[0m        \u001b[35m1.3015\u001b[0m  3.1580\n",
      "      3        \u001b[36m1.3585\u001b[0m       \u001b[32m0.5886\u001b[0m        \u001b[35m1.1966\u001b[0m  3.1443\n",
      "      4        \u001b[36m1.2596\u001b[0m       \u001b[32m0.6146\u001b[0m        \u001b[35m1.1193\u001b[0m  3.1602\n",
      "      5        \u001b[36m1.1847\u001b[0m       \u001b[32m0.6342\u001b[0m        \u001b[35m1.0625\u001b[0m  3.1622\n",
      "      6        \u001b[36m1.1234\u001b[0m       \u001b[32m0.6518\u001b[0m        \u001b[35m1.0135\u001b[0m  3.1547\n",
      "      7        \u001b[36m1.0764\u001b[0m       \u001b[32m0.6625\u001b[0m        \u001b[35m0.9778\u001b[0m  3.1650\n",
      "      8        \u001b[36m1.0358\u001b[0m       \u001b[32m0.6719\u001b[0m        \u001b[35m0.9484\u001b[0m  3.1638\n",
      "      9        \u001b[36m0.9967\u001b[0m       \u001b[32m0.6813\u001b[0m        \u001b[35m0.9210\u001b[0m  3.1614\n",
      "     10        \u001b[36m0.9698\u001b[0m       \u001b[32m0.6923\u001b[0m        \u001b[35m0.8992\u001b[0m  3.1662\n",
      "     11        \u001b[36m0.9418\u001b[0m       \u001b[32m0.6989\u001b[0m        \u001b[35m0.8795\u001b[0m  3.1710\n",
      "     12        \u001b[36m0.9159\u001b[0m       \u001b[32m0.7008\u001b[0m        \u001b[35m0.8661\u001b[0m  3.1699\n",
      "     13        \u001b[36m0.8987\u001b[0m       \u001b[32m0.7088\u001b[0m        \u001b[35m0.8503\u001b[0m  3.1751\n",
      "     14        \u001b[36m0.8736\u001b[0m       \u001b[32m0.7155\u001b[0m        \u001b[35m0.8327\u001b[0m  3.1795\n",
      "     15        \u001b[36m0.8550\u001b[0m       \u001b[32m0.7192\u001b[0m        \u001b[35m0.8209\u001b[0m  3.1766\n",
      "     16        \u001b[36m0.8351\u001b[0m       \u001b[32m0.7245\u001b[0m        \u001b[35m0.8086\u001b[0m  3.1782\n",
      "     17        \u001b[36m0.8160\u001b[0m       \u001b[32m0.7282\u001b[0m        \u001b[35m0.7994\u001b[0m  3.1833\n",
      "     18        \u001b[36m0.8006\u001b[0m       \u001b[32m0.7312\u001b[0m        \u001b[35m0.7842\u001b[0m  3.1876\n",
      "     19        \u001b[36m0.7876\u001b[0m       \u001b[32m0.7328\u001b[0m        \u001b[35m0.7803\u001b[0m  3.1829\n",
      "     20        \u001b[36m0.7678\u001b[0m       \u001b[32m0.7339\u001b[0m        \u001b[35m0.7716\u001b[0m  3.1953\n",
      "     21        \u001b[36m0.7583\u001b[0m       \u001b[32m0.7398\u001b[0m        \u001b[35m0.7576\u001b[0m  3.1882\n",
      "     22        \u001b[36m0.7469\u001b[0m       \u001b[32m0.7415\u001b[0m        \u001b[35m0.7519\u001b[0m  3.1923\n",
      "     23        \u001b[36m0.7304\u001b[0m       0.7401        \u001b[35m0.7504\u001b[0m  3.1926\n",
      "     24        \u001b[36m0.7186\u001b[0m       \u001b[32m0.7418\u001b[0m        \u001b[35m0.7470\u001b[0m  3.1946\n",
      "     25        \u001b[36m0.7094\u001b[0m       \u001b[32m0.7458\u001b[0m        \u001b[35m0.7346\u001b[0m  3.1994\n",
      "     26        \u001b[36m0.6931\u001b[0m       0.7453        0.7383  3.1950\n",
      "     27        \u001b[36m0.6847\u001b[0m       \u001b[32m0.7467\u001b[0m        \u001b[35m0.7313\u001b[0m  3.1931\n",
      "     28        \u001b[36m0.6752\u001b[0m       \u001b[32m0.7515\u001b[0m        \u001b[35m0.7170\u001b[0m  3.1928\n",
      "     29        \u001b[36m0.6627\u001b[0m       \u001b[32m0.7544\u001b[0m        \u001b[35m0.7119\u001b[0m  3.1875\n",
      "     30        \u001b[36m0.6524\u001b[0m       0.7511        0.7180  3.1824\n",
      "     31        \u001b[36m0.6418\u001b[0m       \u001b[32m0.7569\u001b[0m        \u001b[35m0.7052\u001b[0m  3.1839\n",
      "     32        \u001b[36m0.6332\u001b[0m       \u001b[32m0.7589\u001b[0m        \u001b[35m0.6995\u001b[0m  3.1801\n",
      "     33        \u001b[36m0.6226\u001b[0m       0.7579        \u001b[35m0.6945\u001b[0m  3.1792\n",
      "     34        \u001b[36m0.6115\u001b[0m       0.7575        0.6946  3.1858\n",
      "     35        \u001b[36m0.6090\u001b[0m       \u001b[32m0.7609\u001b[0m        \u001b[35m0.6869\u001b[0m  3.1795\n",
      "     36        \u001b[36m0.5965\u001b[0m       \u001b[32m0.7622\u001b[0m        \u001b[35m0.6868\u001b[0m  3.1880\n",
      "     37        \u001b[36m0.5886\u001b[0m       0.7613        \u001b[35m0.6831\u001b[0m  3.1852\n",
      "     38        \u001b[36m0.5806\u001b[0m       \u001b[32m0.7669\u001b[0m        \u001b[35m0.6744\u001b[0m  3.1756\n",
      "     39        \u001b[36m0.5691\u001b[0m       0.7656        0.6816  3.1742\n",
      "     40        \u001b[36m0.5664\u001b[0m       \u001b[32m0.7697\u001b[0m        \u001b[35m0.6742\u001b[0m  3.1783\n",
      "     41        \u001b[36m0.5545\u001b[0m       0.7657        0.6778  3.1825\n",
      "     42        \u001b[36m0.5465\u001b[0m       \u001b[32m0.7708\u001b[0m        \u001b[35m0.6708\u001b[0m  3.1714\n",
      "     43        \u001b[36m0.5400\u001b[0m       0.7692        \u001b[35m0.6658\u001b[0m  3.1728\n",
      "     44        \u001b[36m0.5343\u001b[0m       0.7663        0.6744  3.1602\n",
      "     45        \u001b[36m0.5261\u001b[0m       \u001b[32m0.7737\u001b[0m        \u001b[35m0.6608\u001b[0m  3.1719\n",
      "     46        \u001b[36m0.5252\u001b[0m       0.7717        0.6618  3.1673\n",
      "     47        \u001b[36m0.5109\u001b[0m       0.7700        0.6638  3.1695\n",
      "     48        \u001b[36m0.5050\u001b[0m       0.7716        0.6618  3.1599\n",
      "     49        \u001b[36m0.4969\u001b[0m       \u001b[32m0.7755\u001b[0m        \u001b[35m0.6571\u001b[0m  3.1588\n",
      "     50        \u001b[36m0.4920\u001b[0m       0.7733        0.6619  3.1607\n",
      "The channel was 256, the learning rate was 0.0001\n",
      "  epoch    train_loss    valid_acc    valid_loss     dur\n",
      "-------  ------------  -----------  ------------  ------\n",
      "      1        \u001b[36m1.6336\u001b[0m       \u001b[32m0.5527\u001b[0m        \u001b[35m1.2881\u001b[0m  6.1969\n",
      "      2        \u001b[36m1.2999\u001b[0m       \u001b[32m0.6045\u001b[0m        \u001b[35m1.1220\u001b[0m  6.1984\n",
      "      3        \u001b[36m1.1574\u001b[0m       \u001b[32m0.6433\u001b[0m        \u001b[35m1.0264\u001b[0m  6.2124\n",
      "      4        \u001b[36m1.0544\u001b[0m       \u001b[32m0.6692\u001b[0m        \u001b[35m0.9555\u001b[0m  6.2015\n",
      "      5        \u001b[36m0.9872\u001b[0m       \u001b[32m0.6815\u001b[0m        \u001b[35m0.9150\u001b[0m  6.2078\n",
      "      6        \u001b[36m0.9240\u001b[0m       \u001b[32m0.6962\u001b[0m        \u001b[35m0.8753\u001b[0m  6.1982\n",
      "      7        \u001b[36m0.8772\u001b[0m       \u001b[32m0.7051\u001b[0m        \u001b[35m0.8505\u001b[0m  6.2226\n",
      "      8        \u001b[36m0.8395\u001b[0m       \u001b[32m0.7134\u001b[0m        \u001b[35m0.8215\u001b[0m  6.1924\n",
      "      9        \u001b[36m0.8040\u001b[0m       \u001b[32m0.7197\u001b[0m        \u001b[35m0.7986\u001b[0m  6.1769\n",
      "     10        \u001b[36m0.7724\u001b[0m       \u001b[32m0.7305\u001b[0m        \u001b[35m0.7737\u001b[0m  6.1587\n",
      "     11        \u001b[36m0.7434\u001b[0m       \u001b[32m0.7366\u001b[0m        \u001b[35m0.7681\u001b[0m  6.1682\n",
      "     12        \u001b[36m0.7170\u001b[0m       \u001b[32m0.7445\u001b[0m        \u001b[35m0.7461\u001b[0m  6.1463\n",
      "     13        \u001b[36m0.6899\u001b[0m       \u001b[32m0.7460\u001b[0m        \u001b[35m0.7380\u001b[0m  6.1383\n",
      "     14        \u001b[36m0.6647\u001b[0m       \u001b[32m0.7519\u001b[0m        \u001b[35m0.7267\u001b[0m  6.1318\n",
      "     15        \u001b[36m0.6392\u001b[0m       \u001b[32m0.7543\u001b[0m        \u001b[35m0.7104\u001b[0m  6.1295\n",
      "     16        \u001b[36m0.6187\u001b[0m       \u001b[32m0.7574\u001b[0m        \u001b[35m0.7044\u001b[0m  6.1260\n",
      "     17        \u001b[36m0.5990\u001b[0m       \u001b[32m0.7591\u001b[0m        \u001b[35m0.6985\u001b[0m  6.1007\n",
      "     18        \u001b[36m0.5774\u001b[0m       0.7591        \u001b[35m0.6911\u001b[0m  6.0768\n",
      "     19        \u001b[36m0.5607\u001b[0m       \u001b[32m0.7651\u001b[0m        \u001b[35m0.6901\u001b[0m  6.0741\n",
      "     20        \u001b[36m0.5382\u001b[0m       \u001b[32m0.7668\u001b[0m        \u001b[35m0.6811\u001b[0m  6.1156\n",
      "     21        \u001b[36m0.5218\u001b[0m       \u001b[32m0.7682\u001b[0m        \u001b[35m0.6737\u001b[0m  6.1021\n",
      "     22        \u001b[36m0.5011\u001b[0m       \u001b[32m0.7710\u001b[0m        \u001b[35m0.6630\u001b[0m  6.1216\n",
      "     23        \u001b[36m0.4857\u001b[0m       \u001b[32m0.7717\u001b[0m        0.6631  6.0929\n",
      "     24        \u001b[36m0.4669\u001b[0m       \u001b[32m0.7751\u001b[0m        \u001b[35m0.6545\u001b[0m  6.1075\n",
      "     25        \u001b[36m0.4572\u001b[0m       \u001b[32m0.7752\u001b[0m        \u001b[35m0.6540\u001b[0m  6.1212\n",
      "     26        \u001b[36m0.4396\u001b[0m       0.7743        0.6600  6.1145\n",
      "     27        \u001b[36m0.4239\u001b[0m       \u001b[32m0.7756\u001b[0m        \u001b[35m0.6529\u001b[0m  6.1094\n",
      "     28        \u001b[36m0.4048\u001b[0m       \u001b[32m0.7788\u001b[0m        \u001b[35m0.6474\u001b[0m  6.1126\n",
      "     29        \u001b[36m0.3948\u001b[0m       0.7783        0.6507  6.1339\n",
      "     30        \u001b[36m0.3807\u001b[0m       \u001b[32m0.7789\u001b[0m        0.6526  6.1389\n",
      "     31        \u001b[36m0.3655\u001b[0m       0.7767        0.6542  6.1480\n",
      "     32        \u001b[36m0.3515\u001b[0m       \u001b[32m0.7814\u001b[0m        \u001b[35m0.6444\u001b[0m  6.1751\n",
      "     33        \u001b[36m0.3393\u001b[0m       \u001b[32m0.7840\u001b[0m        0.6455  6.1548\n",
      "     34        \u001b[36m0.3247\u001b[0m       0.7816        0.6497  6.1603\n",
      "     35        \u001b[36m0.3153\u001b[0m       0.7823        0.6487  6.1681\n",
      "     36        \u001b[36m0.3007\u001b[0m       \u001b[32m0.7860\u001b[0m        \u001b[35m0.6388\u001b[0m  6.1728\n",
      "     37        \u001b[36m0.2920\u001b[0m       0.7851        0.6449  6.1701\n",
      "     38        \u001b[36m0.2808\u001b[0m       0.7826        0.6554  6.1807\n",
      "     39        \u001b[36m0.2743\u001b[0m       0.7845        0.6524  6.1956\n",
      "     40        \u001b[36m0.2562\u001b[0m       0.7842        0.6490  6.2041\n",
      "Stopping since valid_loss has not improved in the last 5 epochs.\n",
      "The channel was 512, the learning rate was 0.0001\n",
      "  epoch    train_loss    valid_acc    valid_loss      dur\n",
      "-------  ------------  -----------  ------------  -------\n",
      "      1        \u001b[36m1.4867\u001b[0m       \u001b[32m0.5875\u001b[0m        \u001b[35m1.1599\u001b[0m  13.7566\n",
      "      2        \u001b[36m1.1323\u001b[0m       \u001b[32m0.6544\u001b[0m        \u001b[35m0.9950\u001b[0m  13.8768\n",
      "      3        \u001b[36m0.9813\u001b[0m       \u001b[32m0.6778\u001b[0m        \u001b[35m0.9199\u001b[0m  13.9526\n",
      "      4        \u001b[36m0.8851\u001b[0m       \u001b[32m0.7036\u001b[0m        \u001b[35m0.8458\u001b[0m  14.0137\n",
      "      5        \u001b[36m0.8155\u001b[0m       \u001b[32m0.7077\u001b[0m        \u001b[35m0.8244\u001b[0m  14.0539\n",
      "      6        \u001b[36m0.7579\u001b[0m       \u001b[32m0.7197\u001b[0m        \u001b[35m0.7897\u001b[0m  14.0974\n",
      "      7        \u001b[36m0.7093\u001b[0m       \u001b[32m0.7321\u001b[0m        \u001b[35m0.7623\u001b[0m  14.0722\n",
      "      8        \u001b[36m0.6648\u001b[0m       \u001b[32m0.7351\u001b[0m        \u001b[35m0.7490\u001b[0m  14.0787\n",
      "      9        \u001b[36m0.6232\u001b[0m       \u001b[32m0.7519\u001b[0m        \u001b[35m0.7108\u001b[0m  14.0801\n",
      "     10        \u001b[36m0.5813\u001b[0m       \u001b[32m0.7579\u001b[0m        \u001b[35m0.6961\u001b[0m  13.9528\n",
      "     11        \u001b[36m0.5446\u001b[0m       \u001b[32m0.7622\u001b[0m        \u001b[35m0.6848\u001b[0m  13.9407\n",
      "     12        \u001b[36m0.5114\u001b[0m       \u001b[32m0.7663\u001b[0m        \u001b[35m0.6737\u001b[0m  14.0248\n",
      "     13        \u001b[36m0.4788\u001b[0m       0.7650        0.6776  13.9431\n",
      "     14        \u001b[36m0.4443\u001b[0m       0.7624        0.6877  14.0306\n",
      "     15        \u001b[36m0.4155\u001b[0m       \u001b[32m0.7715\u001b[0m        \u001b[35m0.6587\u001b[0m  14.0328\n",
      "     16        \u001b[36m0.3874\u001b[0m       \u001b[32m0.7740\u001b[0m        \u001b[35m0.6575\u001b[0m  13.8163\n",
      "     17        \u001b[36m0.3581\u001b[0m       0.7736        0.6607  13.7884\n",
      "     18        \u001b[36m0.3337\u001b[0m       \u001b[32m0.7801\u001b[0m        \u001b[35m0.6459\u001b[0m  13.7710\n",
      "     19        \u001b[36m0.3078\u001b[0m       0.7799        0.6515  13.7418\n",
      "     20        \u001b[36m0.2844\u001b[0m       0.7740        0.6669  13.6890\n",
      "     21        \u001b[36m0.2644\u001b[0m       0.7758        0.6733  13.6630\n",
      "     22        \u001b[36m0.2433\u001b[0m       0.7715        0.6883  13.8098\n",
      "Stopping since valid_loss has not improved in the last 5 epochs.\n",
      "The channel was 128, the learning rate was 0.001\n",
      "  epoch    train_loss    valid_acc    valid_loss     dur\n",
      "-------  ------------  -----------  ------------  ------\n",
      "      1        \u001b[36m1.5918\u001b[0m       \u001b[32m0.5432\u001b[0m        \u001b[35m1.2453\u001b[0m  3.1035\n",
      "      2        \u001b[36m1.1911\u001b[0m       \u001b[32m0.6467\u001b[0m        \u001b[35m1.0016\u001b[0m  3.1075\n",
      "      3        \u001b[36m1.0245\u001b[0m       \u001b[32m0.6690\u001b[0m        \u001b[35m0.9421\u001b[0m  3.1208\n",
      "      4        \u001b[36m0.9245\u001b[0m       \u001b[32m0.7108\u001b[0m        \u001b[35m0.8356\u001b[0m  3.1018\n",
      "      5        \u001b[36m0.8580\u001b[0m       \u001b[32m0.7191\u001b[0m        \u001b[35m0.8196\u001b[0m  3.1075\n",
      "      6        \u001b[36m0.8062\u001b[0m       \u001b[32m0.7294\u001b[0m        \u001b[35m0.7835\u001b[0m  3.1001\n",
      "      7        \u001b[36m0.7627\u001b[0m       \u001b[32m0.7342\u001b[0m        \u001b[35m0.7764\u001b[0m  3.0934\n",
      "      8        \u001b[36m0.7159\u001b[0m       \u001b[32m0.7441\u001b[0m        \u001b[35m0.7422\u001b[0m  3.0959\n",
      "      9        \u001b[36m0.6845\u001b[0m       \u001b[32m0.7535\u001b[0m        \u001b[35m0.7172\u001b[0m  3.1002\n",
      "     10        \u001b[36m0.6500\u001b[0m       0.7504        0.7301  3.1135\n",
      "     11        \u001b[36m0.6233\u001b[0m       0.7222        0.8134  3.1064\n",
      "     12        \u001b[36m0.5967\u001b[0m       0.7500        0.7301  3.1062\n",
      "     13        \u001b[36m0.5679\u001b[0m       0.7382        0.7676  3.0977\n",
      "     14        \u001b[36m0.5419\u001b[0m       \u001b[32m0.7573\u001b[0m        \u001b[35m0.7070\u001b[0m  3.1099\n",
      "     15        \u001b[36m0.5189\u001b[0m       0.7275        0.8109  3.1219\n",
      "     16        \u001b[36m0.5012\u001b[0m       0.7383        0.7763  3.1253\n",
      "     17        \u001b[36m0.4856\u001b[0m       \u001b[32m0.7759\u001b[0m        \u001b[35m0.6584\u001b[0m  3.1117\n",
      "     18        \u001b[36m0.4610\u001b[0m       0.7671        0.6920  3.1101\n",
      "     19        \u001b[36m0.4503\u001b[0m       0.7484        0.7565  3.1313\n",
      "     20        \u001b[36m0.4330\u001b[0m       0.7603        0.7146  3.1280\n",
      "     21        \u001b[36m0.4164\u001b[0m       0.7584        0.7378  3.1179\n",
      "Stopping since valid_loss has not improved in the last 5 epochs.\n",
      "The channel was 256, the learning rate was 0.001\n",
      "  epoch    train_loss    valid_acc    valid_loss     dur\n",
      "-------  ------------  -----------  ------------  ------\n",
      "      1        \u001b[36m1.6579\u001b[0m       \u001b[32m0.5450\u001b[0m        \u001b[35m1.2561\u001b[0m  6.1184\n",
      "      2        \u001b[36m1.1583\u001b[0m       \u001b[32m0.6407\u001b[0m        \u001b[35m1.0060\u001b[0m  6.1430\n",
      "      3        \u001b[36m0.9712\u001b[0m       \u001b[32m0.6851\u001b[0m        \u001b[35m0.9020\u001b[0m  6.1335\n",
      "      4        \u001b[36m0.8689\u001b[0m       \u001b[32m0.7178\u001b[0m        \u001b[35m0.8076\u001b[0m  6.1475\n",
      "      5        \u001b[36m0.7908\u001b[0m       0.7155        0.8156  6.1657\n",
      "      6        \u001b[36m0.7173\u001b[0m       \u001b[32m0.7254\u001b[0m        \u001b[35m0.7869\u001b[0m  6.1685\n",
      "      7        \u001b[36m0.6691\u001b[0m       0.7162        0.8146  6.1811\n",
      "      8        \u001b[36m0.6200\u001b[0m       0.7231        0.8026  6.2037\n",
      "      9        \u001b[36m0.5697\u001b[0m       \u001b[32m0.7593\u001b[0m        \u001b[35m0.6993\u001b[0m  6.1986\n",
      "     10        \u001b[36m0.5247\u001b[0m       0.7511        0.7574  6.2029\n",
      "     11        \u001b[36m0.4784\u001b[0m       \u001b[32m0.7777\u001b[0m        \u001b[35m0.6565\u001b[0m  6.2012\n",
      "     12        \u001b[36m0.4481\u001b[0m       0.7608        0.7093  6.2085\n",
      "     13        \u001b[36m0.4193\u001b[0m       0.7678        0.7088  6.2271\n",
      "     14        \u001b[36m0.3876\u001b[0m       0.7664        0.7174  6.2404\n",
      "     15        \u001b[36m0.3628\u001b[0m       0.7653        0.7162  6.2230\n",
      "Stopping since valid_loss has not improved in the last 5 epochs.\n",
      "The channel was 512, the learning rate was 0.001\n",
      "  epoch    train_loss    valid_acc    valid_loss      dur\n",
      "-------  ------------  -----------  ------------  -------\n",
      "      1        \u001b[36m1.8660\u001b[0m       \u001b[32m0.5239\u001b[0m        \u001b[35m1.3267\u001b[0m  13.8909\n",
      "      2        \u001b[36m1.2144\u001b[0m       \u001b[32m0.6288\u001b[0m        \u001b[35m1.0492\u001b[0m  14.0318\n",
      "      3        \u001b[36m0.9933\u001b[0m       \u001b[32m0.6585\u001b[0m        \u001b[35m1.0033\u001b[0m  14.0499\n",
      "      4        \u001b[36m0.8716\u001b[0m       \u001b[32m0.7019\u001b[0m        \u001b[35m0.8538\u001b[0m  14.0592\n",
      "      5        \u001b[36m0.7827\u001b[0m       \u001b[32m0.7338\u001b[0m        \u001b[35m0.7637\u001b[0m  13.9973\n",
      "      6        \u001b[36m0.7105\u001b[0m       0.7051        0.8631  13.9783\n",
      "      7        \u001b[36m0.6455\u001b[0m       0.7081        0.8460  14.0149\n",
      "      8        \u001b[36m0.5830\u001b[0m       0.7151        0.8477  14.0355\n",
      "      9        \u001b[36m0.5239\u001b[0m       \u001b[32m0.7465\u001b[0m        \u001b[35m0.7621\u001b[0m  14.0760\n",
      "     10        \u001b[36m0.4676\u001b[0m       0.7337        0.8000  14.0717\n",
      "     11        \u001b[36m0.4258\u001b[0m       0.7354        0.8330  13.8616\n",
      "     12        \u001b[36m0.4056\u001b[0m       \u001b[32m0.7492\u001b[0m        0.8092  13.8587\n",
      "     13        \u001b[36m0.3547\u001b[0m       \u001b[32m0.7633\u001b[0m        0.7739  13.9999\n",
      "Stopping since valid_loss has not improved in the last 5 epochs.\n",
      "The channel was 128, the learning rate was 0.01\n",
      "  epoch    train_loss    valid_acc    valid_loss     dur\n",
      "-------  ------------  -----------  ------------  ------\n",
      "      1        \u001b[36m2.4661\u001b[0m       \u001b[32m0.3902\u001b[0m        \u001b[35m1.6711\u001b[0m  3.1283\n",
      "      2        \u001b[36m1.4921\u001b[0m       \u001b[32m0.5048\u001b[0m        \u001b[35m1.3910\u001b[0m  3.1077\n",
      "      3        \u001b[36m1.2807\u001b[0m       \u001b[32m0.5838\u001b[0m        \u001b[35m1.1837\u001b[0m  3.1125\n",
      "      4        \u001b[36m1.1125\u001b[0m       \u001b[32m0.6630\u001b[0m        \u001b[35m0.9687\u001b[0m  3.0927\n",
      "      5        \u001b[36m0.9888\u001b[0m       \u001b[32m0.6790\u001b[0m        \u001b[35m0.9151\u001b[0m  3.0898\n",
      "      6        \u001b[36m0.9001\u001b[0m       0.6382        1.0577  3.0995\n",
      "      7        \u001b[36m0.8429\u001b[0m       0.6774        0.9419  3.0966\n",
      "      8        \u001b[36m0.7930\u001b[0m       \u001b[32m0.7120\u001b[0m        \u001b[35m0.8200\u001b[0m  3.0852\n",
      "      9        \u001b[36m0.7398\u001b[0m       0.6705        0.9908  3.0919\n",
      "     10        \u001b[36m0.7032\u001b[0m       \u001b[32m0.7199\u001b[0m        \u001b[35m0.8102\u001b[0m  3.0905\n",
      "     11        \u001b[36m0.6733\u001b[0m       \u001b[32m0.7302\u001b[0m        \u001b[35m0.7912\u001b[0m  3.0858\n",
      "     12        \u001b[36m0.6391\u001b[0m       0.7149        0.8442  3.0781\n",
      "     13        \u001b[36m0.6147\u001b[0m       0.7170        0.8561  3.0809\n",
      "     14        \u001b[36m0.5882\u001b[0m       0.7029        0.8850  3.0770\n",
      "     15        \u001b[36m0.5654\u001b[0m       0.7282        0.8245  3.0779\n",
      "Stopping since valid_loss has not improved in the last 5 epochs.\n",
      "The channel was 256, the learning rate was 0.01\n",
      "  epoch    train_loss    valid_acc    valid_loss     dur\n",
      "-------  ------------  -----------  ------------  ------\n",
      "      1        \u001b[36m3.5919\u001b[0m       \u001b[32m0.3983\u001b[0m        \u001b[35m1.6982\u001b[0m  6.0360\n",
      "      2        \u001b[36m1.4422\u001b[0m       \u001b[32m0.4942\u001b[0m        \u001b[35m1.4063\u001b[0m  6.0587\n",
      "      3        \u001b[36m1.2272\u001b[0m       \u001b[32m0.6151\u001b[0m        \u001b[35m1.1065\u001b[0m  6.0509\n",
      "      4        \u001b[36m1.0562\u001b[0m       \u001b[32m0.6300\u001b[0m        \u001b[35m1.0532\u001b[0m  6.0635\n",
      "      5        \u001b[36m0.9361\u001b[0m       \u001b[32m0.6477\u001b[0m        \u001b[35m1.0331\u001b[0m  6.0767\n",
      "      6        \u001b[36m0.8409\u001b[0m       0.6235        1.1104  6.0766\n",
      "      7        \u001b[36m0.7679\u001b[0m       \u001b[32m0.7008\u001b[0m        \u001b[35m0.8644\u001b[0m  6.0790\n",
      "      8        \u001b[36m0.6919\u001b[0m       0.6667        0.9843  6.0795\n",
      "      9        \u001b[36m0.6367\u001b[0m       0.6870        0.9418  6.0814\n",
      "     10        \u001b[36m0.5896\u001b[0m       \u001b[32m0.7083\u001b[0m        0.8764  6.0957\n",
      "     11        \u001b[36m0.5484\u001b[0m       \u001b[32m0.7123\u001b[0m        \u001b[35m0.8610\u001b[0m  6.1184\n",
      "     12        \u001b[36m0.4997\u001b[0m       \u001b[32m0.7515\u001b[0m        \u001b[35m0.7285\u001b[0m  6.1226\n",
      "     13        \u001b[36m0.4751\u001b[0m       0.7501        0.7545  6.1230\n",
      "     14        \u001b[36m0.4319\u001b[0m       0.7270        0.8634  6.1406\n",
      "     15        \u001b[36m0.4018\u001b[0m       \u001b[32m0.7519\u001b[0m        0.7678  6.1402\n",
      "     16        \u001b[36m0.3827\u001b[0m       0.7382        0.8527  6.1434\n",
      "Stopping since valid_loss has not improved in the last 5 epochs.\n",
      "The channel was 512, the learning rate was 0.01\n",
      "  epoch    train_loss    valid_acc    valid_loss      dur\n",
      "-------  ------------  -----------  ------------  -------\n",
      "      1        \u001b[36m6.0569\u001b[0m       \u001b[32m0.4086\u001b[0m        \u001b[35m1.6634\u001b[0m  13.7351\n",
      "      2        \u001b[36m1.5010\u001b[0m       \u001b[32m0.4979\u001b[0m        \u001b[35m1.4120\u001b[0m  13.8113\n",
      "      3        \u001b[36m1.2651\u001b[0m       \u001b[32m0.5863\u001b[0m        \u001b[35m1.1882\u001b[0m  13.7868\n",
      "      4        \u001b[36m1.0987\u001b[0m       \u001b[32m0.6096\u001b[0m        \u001b[35m1.1351\u001b[0m  13.8378\n",
      "      5        \u001b[36m0.9611\u001b[0m       \u001b[32m0.6584\u001b[0m        \u001b[35m0.9870\u001b[0m  13.8555\n",
      "      6        \u001b[36m0.8590\u001b[0m       \u001b[32m0.6933\u001b[0m        \u001b[35m0.8747\u001b[0m  13.9215\n",
      "      7        \u001b[36m0.7620\u001b[0m       \u001b[32m0.7215\u001b[0m        \u001b[35m0.8052\u001b[0m  13.9019\n",
      "      8        \u001b[36m0.6876\u001b[0m       \u001b[32m0.7403\u001b[0m        \u001b[35m0.7532\u001b[0m  13.9872\n",
      "      9        \u001b[36m0.6161\u001b[0m       \u001b[32m0.7516\u001b[0m        \u001b[35m0.7395\u001b[0m  13.9732\n",
      "     10        \u001b[36m0.5579\u001b[0m       0.6949        0.9249  13.9310\n",
      "     11        \u001b[36m0.4903\u001b[0m       0.6445        1.1340  13.9594\n",
      "     12        \u001b[36m0.4353\u001b[0m       0.7367        0.7914  13.9665\n",
      "     13        \u001b[36m0.3780\u001b[0m       \u001b[32m0.7526\u001b[0m        0.7753  13.9434\n",
      "Stopping since valid_loss has not improved in the last 5 epochs.\n"
     ]
    }
   ],
   "source": [
    "# implement hyperparameters, you can select and modify the hyperparameters by yourself here.\n",
    "learning_rate = [1e-4, 1e-3, 1e-2]\n",
    "channel = [128, 256, 512]\n",
    "# Select the better optimizer by the result shown in the previous problem, you can select and modify it by yourself here.\n",
    "\n",
    "better_optimizer = torch.optim.Adam  \n",
    "\n",
    "train_data_normalized = torch.Tensor(train.data/255)\n",
    "train_data_normalized = train_data_normalized.permute(0,3,1,2)\n",
    "\n",
    "for l in learning_rate:\n",
    "    for c in channel:\n",
    "      print(f'The channel was {c}, the learning rate was {l}')\n",
    "\n",
    "      cnn = CNN_MaxPool(channels = c)\n",
    "      \n",
    "      model = skorch.NeuralNetClassifier(cnn, criterion=torch.nn.CrossEntropyLoss,\n",
    "                                   device=\"cuda\",\n",
    "                                   optimizer=better_optimizer,\n",
    "                                   lr=l,\n",
    "                                   max_epochs=50,\n",
    "                                   batch_size=32 * 8,\n",
    "                                   callbacks=[skorch.callbacks.EarlyStopping(lower_is_better=True)])\n",
    "      # implement input normalization & type cast here \n",
    "      model.fit(train_data_normalized, np.asarray(train.targets))"
   ]
  },
  {
   "attachments": {},
   "cell_type": "markdown",
   "metadata": {
    "colab_type": "text",
    "id": "H7Mu2ZZHoZU0"
   },
   "source": [
    "Write down the **validation accuracy** of the model under different hyperparameter settings.\n",
    "\n",
    "learning rate = $10^{-4}$:\n",
    "| #channel for each layer | validation accuracy |\n",
    "|:-----------------------:|:-------------------:|\n",
    "|          $128$          |      $0.7755$       |\n",
    "|          $256$          |    **$0.7860$**     |\n",
    "|          $512$          |      $0.7801$       |\n",
    "\n",
    "learning rate = $10^{-3}$:\n",
    "| #channel for each layer | validation accuracy |\n",
    "|:-----------------------:|:-------------------:|\n",
    "|          $128$          |      $0.7759$       |\n",
    "|          $256$          |      $0.7777$       |\n",
    "|          $512$          |      $0.7633$       |\n",
    "\n",
    "learning rate = $10^{-2}$:\n",
    "| #channel for each layer | validation accuracy |\n",
    "|:-----------------------:|:-------------------:|\n",
    "|          $128$          |      $0.7302$       |\n",
    "|          $256$          |      $0.7519$       |\n",
    "|          $512$          |      $0.7526$       |"
   ]
  },
  {
   "attachments": {},
   "cell_type": "markdown",
   "metadata": {
    "colab_type": "text",
    "id": "8UCaz8nWoWWS"
   },
   "source": [
    "For the best model you have, test it on the test set."
   ]
  },
  {
   "cell_type": "code",
   "execution_count": 15,
   "metadata": {
    "colab": {
     "base_uri": "https://localhost:8080/",
     "height": 35
    },
    "colab_type": "code",
    "id": "bTtBk22OECDD",
    "outputId": "40229a37-f53c-4837-de75-8a63b3f66889"
   },
   "outputs": [
    {
     "name": "stdout",
     "output_type": "stream",
     "text": [
      "  epoch    train_loss    valid_acc    valid_loss     dur\n",
      "-------  ------------  -----------  ------------  ------\n",
      "      1        \u001b[36m1.6229\u001b[0m       \u001b[32m0.5552\u001b[0m        \u001b[35m1.2808\u001b[0m  5.7887\n",
      "      2        \u001b[36m1.2905\u001b[0m       \u001b[32m0.6147\u001b[0m        \u001b[35m1.1130\u001b[0m  5.7904\n",
      "      3        \u001b[36m1.1429\u001b[0m       \u001b[32m0.6455\u001b[0m        \u001b[35m1.0174\u001b[0m  5.7758\n",
      "      4        \u001b[36m1.0483\u001b[0m       \u001b[32m0.6692\u001b[0m        \u001b[35m0.9528\u001b[0m  5.7884\n",
      "      5        \u001b[36m0.9770\u001b[0m       \u001b[32m0.6930\u001b[0m        \u001b[35m0.8981\u001b[0m  5.7653\n",
      "      6        \u001b[36m0.9212\u001b[0m       \u001b[32m0.7024\u001b[0m        \u001b[35m0.8618\u001b[0m  5.7668\n",
      "      7        \u001b[36m0.8761\u001b[0m       \u001b[32m0.7114\u001b[0m        \u001b[35m0.8418\u001b[0m  5.8012\n",
      "      8        \u001b[36m0.8357\u001b[0m       \u001b[32m0.7177\u001b[0m        \u001b[35m0.8171\u001b[0m  5.7866\n",
      "      9        \u001b[36m0.8008\u001b[0m       \u001b[32m0.7259\u001b[0m        \u001b[35m0.7928\u001b[0m  5.7409\n",
      "     10        \u001b[36m0.7699\u001b[0m       \u001b[32m0.7294\u001b[0m        \u001b[35m0.7760\u001b[0m  5.7591\n",
      "     11        \u001b[36m0.7416\u001b[0m       \u001b[32m0.7389\u001b[0m        \u001b[35m0.7623\u001b[0m  5.7847\n",
      "     12        \u001b[36m0.7144\u001b[0m       \u001b[32m0.7436\u001b[0m        \u001b[35m0.7479\u001b[0m  5.7757\n",
      "     13        \u001b[36m0.6867\u001b[0m       \u001b[32m0.7459\u001b[0m        \u001b[35m0.7379\u001b[0m  5.7796\n",
      "     14        \u001b[36m0.6621\u001b[0m       \u001b[32m0.7522\u001b[0m        \u001b[35m0.7261\u001b[0m  5.7849\n",
      "     15        \u001b[36m0.6387\u001b[0m       \u001b[32m0.7562\u001b[0m        \u001b[35m0.7117\u001b[0m  5.7848\n",
      "     16        \u001b[36m0.6178\u001b[0m       \u001b[32m0.7578\u001b[0m        \u001b[35m0.7046\u001b[0m  5.7691\n",
      "     17        \u001b[36m0.5950\u001b[0m       \u001b[32m0.7620\u001b[0m        \u001b[35m0.6940\u001b[0m  5.7612\n",
      "     18        \u001b[36m0.5779\u001b[0m       \u001b[32m0.7624\u001b[0m        \u001b[35m0.6915\u001b[0m  5.7960\n",
      "     19        \u001b[36m0.5589\u001b[0m       \u001b[32m0.7671\u001b[0m        \u001b[35m0.6826\u001b[0m  5.7776\n",
      "     20        \u001b[36m0.5397\u001b[0m       \u001b[32m0.7683\u001b[0m        \u001b[35m0.6823\u001b[0m  5.7812\n",
      "     21        \u001b[36m0.5170\u001b[0m       \u001b[32m0.7703\u001b[0m        \u001b[35m0.6769\u001b[0m  5.7648\n",
      "     22        \u001b[36m0.5039\u001b[0m       \u001b[32m0.7711\u001b[0m        \u001b[35m0.6676\u001b[0m  5.7785\n",
      "     23        \u001b[36m0.4839\u001b[0m       \u001b[32m0.7740\u001b[0m        \u001b[35m0.6576\u001b[0m  5.7657\n",
      "     24        \u001b[36m0.4651\u001b[0m       \u001b[32m0.7744\u001b[0m        \u001b[35m0.6569\u001b[0m  5.7748\n",
      "     25        \u001b[36m0.4493\u001b[0m       \u001b[32m0.7770\u001b[0m        \u001b[35m0.6514\u001b[0m  5.7814\n",
      "     26        \u001b[36m0.4353\u001b[0m       \u001b[32m0.7772\u001b[0m        0.6568  5.7899\n",
      "     27        \u001b[36m0.4183\u001b[0m       \u001b[32m0.7785\u001b[0m        0.6526  5.7753\n",
      "     28        \u001b[36m0.4051\u001b[0m       \u001b[32m0.7792\u001b[0m        \u001b[35m0.6506\u001b[0m  5.7794\n",
      "     29        \u001b[36m0.3886\u001b[0m       \u001b[32m0.7831\u001b[0m        \u001b[35m0.6463\u001b[0m  5.7860\n",
      "     30        \u001b[36m0.3738\u001b[0m       0.7800        \u001b[35m0.6461\u001b[0m  5.7802\n",
      "     31        \u001b[36m0.3578\u001b[0m       \u001b[32m0.7841\u001b[0m        \u001b[35m0.6455\u001b[0m  5.7607\n",
      "     32        \u001b[36m0.3497\u001b[0m       0.7830        \u001b[35m0.6408\u001b[0m  5.7976\n",
      "     33        \u001b[36m0.3381\u001b[0m       0.7836        \u001b[35m0.6397\u001b[0m  5.7657\n",
      "     34        \u001b[36m0.3251\u001b[0m       0.7826        0.6426  5.7709\n",
      "     35        \u001b[36m0.3099\u001b[0m       \u001b[32m0.7844\u001b[0m        0.6464  5.7790\n",
      "     36        \u001b[36m0.2998\u001b[0m       \u001b[32m0.7850\u001b[0m        0.6435  5.7733\n",
      "     37        \u001b[36m0.2838\u001b[0m       \u001b[32m0.7862\u001b[0m        \u001b[35m0.6367\u001b[0m  5.7886\n",
      "     38        \u001b[36m0.2772\u001b[0m       0.7858        0.6401  5.7790\n",
      "     39        \u001b[36m0.2692\u001b[0m       \u001b[32m0.7871\u001b[0m        0.6405  5.8318\n",
      "     40        \u001b[36m0.2595\u001b[0m       0.7866        \u001b[35m0.6365\u001b[0m  5.7907\n",
      "     41        \u001b[36m0.2484\u001b[0m       \u001b[32m0.7872\u001b[0m        0.6409  5.7713\n",
      "     42        \u001b[36m0.2385\u001b[0m       0.7827        0.6520  5.7901\n",
      "     43        \u001b[36m0.2300\u001b[0m       0.7860        0.6646  5.7787\n",
      "     44        \u001b[36m0.2202\u001b[0m       0.7845        0.6562  5.7917\n",
      "Stopping since valid_loss has not improved in the last 5 epochs.\n"
     ]
    },
    {
     "data": {
      "text/plain": [
       "0.7804"
      ]
     },
     "execution_count": 15,
     "metadata": {},
     "output_type": "execute_result"
    }
   ],
   "source": [
    "# implement the same input normalization & type cast here\n",
    "\n",
    "optimizer = torch.optim.Adam \n",
    "learning_rate = 1e-4\n",
    "channel = 256\n",
    "\n",
    "cnn = CNN_MaxPool(channels = channel)\n",
    "model = skorch.NeuralNetClassifier(cnn, criterion=torch.nn.CrossEntropyLoss,\n",
    "                                   device=\"cuda\",\n",
    "                                   optimizer=optimizer,\n",
    "                                   lr=learning_rate,\n",
    "                                   max_epochs=50,\n",
    "                                   batch_size=32 * 8,\n",
    "                                   callbacks=[skorch.callbacks.EarlyStopping(lower_is_better=True)])\n",
    "\n",
    "# implement input normalization & type cast here \n",
    "model.fit(train_data_normalized, np.asarray(train.targets))\n",
    "\n",
    "\n",
    "test_data_normalized = torch.Tensor(test.data/255) \n",
    "test_data_normalized = test_data_normalized.permute(0,3,1,2)\n",
    "test.predictions = model.predict(test_data_normalized)\n",
    "sklearn.metrics.accuracy_score(test.targets, test.predictions)"
   ]
  },
  {
   "attachments": {},
   "cell_type": "markdown",
   "metadata": {
    "colab_type": "text",
    "id": "kSbhC8f1or6_"
   },
   "source": [
    "How much **test accuracy** do you get? What can you conclude for the design of CNN structure and tuning of hyperparameters? (5 points)\n",
    "\n",
    "**Your Answer:** \n",
    "\n",
    "1. The test accuracy we got is $0.7804$.$\\\\$\n",
    "    The best model is the one with $256$ channels for each layer and learning rate $10^{-4}$.\n",
    "\n",
    "\n",
    "2. From the results above, we can conclude that the number of channels, learning rate and the optimizer are important hyperparameters, they could greatly influence the training speed and evaluation effects. Also the structure of CNN is also important, the max pooling layer could improve the performance of the model. And with dropout layer, the model could be more robust to against overfitting.$\\\\$\n",
    "The number of channels which also influence the net structure, could effect performence as hyperparameter. It should not be too small or too large. The learning rate should not be too large, otherwise the model will not converge."
   ]
  }
 ],
 "metadata": {
  "accelerator": "GPU",
  "colab": {
   "collapsed_sections": [],
   "include_colab_link": true,
   "machine_shape": "hm",
   "name": "Adrien Hernandez Homework 1 - PyTorch",
   "provenance": []
  },
  "kernelspec": {
   "display_name": "Python 3 (ipykernel)",
   "language": "python",
   "name": "python3"
  },
  "language_info": {
   "codemirror_mode": {
    "name": "ipython",
    "version": 3
   },
   "file_extension": ".py",
   "mimetype": "text/x-python",
   "name": "python",
   "nbconvert_exporter": "python",
   "pygments_lexer": "ipython3",
   "version": "3.7.12"
  },
  "widgets": {
   "application/vnd.jupyter.widget-state+json": {
    "0f3b4a3b037d47cb8ba1196d7dbd3b98": {
     "model_module": "@jupyter-widgets/controls",
     "model_name": "ProgressStyleModel",
     "state": {
      "_model_module": "@jupyter-widgets/controls",
      "_model_module_version": "1.5.0",
      "_model_name": "ProgressStyleModel",
      "_view_count": null,
      "_view_module": "@jupyter-widgets/base",
      "_view_module_version": "1.2.0",
      "_view_name": "StyleView",
      "bar_color": null,
      "description_width": ""
     }
    },
    "310efd92386a4757a767d5204b08a865": {
     "model_module": "@jupyter-widgets/controls",
     "model_name": "HBoxModel",
     "state": {
      "_dom_classes": [],
      "_model_module": "@jupyter-widgets/controls",
      "_model_module_version": "1.5.0",
      "_model_name": "HBoxModel",
      "_view_count": null,
      "_view_module": "@jupyter-widgets/controls",
      "_view_module_version": "1.5.0",
      "_view_name": "HBoxView",
      "box_style": "",
      "children": [
       "IPY_MODEL_87cad6ba7ef84d03a7f8c0cb37ec01ec",
       "IPY_MODEL_b712d5d1ba464a378c00dbb2aec6dd8c"
      ],
      "layout": "IPY_MODEL_8346dadd8dcd437f9d0c73a8e86d4503"
     }
    },
    "3f3ef2c146bf4dd38424170b3090b055": {
     "model_module": "@jupyter-widgets/base",
     "model_name": "LayoutModel",
     "state": {
      "_model_module": "@jupyter-widgets/base",
      "_model_module_version": "1.2.0",
      "_model_name": "LayoutModel",
      "_view_count": null,
      "_view_module": "@jupyter-widgets/base",
      "_view_module_version": "1.2.0",
      "_view_name": "LayoutView",
      "align_content": null,
      "align_items": null,
      "align_self": null,
      "border": null,
      "bottom": null,
      "display": null,
      "flex": null,
      "flex_flow": null,
      "grid_area": null,
      "grid_auto_columns": null,
      "grid_auto_flow": null,
      "grid_auto_rows": null,
      "grid_column": null,
      "grid_gap": null,
      "grid_row": null,
      "grid_template_areas": null,
      "grid_template_columns": null,
      "grid_template_rows": null,
      "height": null,
      "justify_content": null,
      "justify_items": null,
      "left": null,
      "margin": null,
      "max_height": null,
      "max_width": null,
      "min_height": null,
      "min_width": null,
      "object_fit": null,
      "object_position": null,
      "order": null,
      "overflow": null,
      "overflow_x": null,
      "overflow_y": null,
      "padding": null,
      "right": null,
      "top": null,
      "visibility": null,
      "width": null
     }
    },
    "44a89539615b4132a01ca7f5223ca281": {
     "model_module": "@jupyter-widgets/base",
     "model_name": "LayoutModel",
     "state": {
      "_model_module": "@jupyter-widgets/base",
      "_model_module_version": "1.2.0",
      "_model_name": "LayoutModel",
      "_view_count": null,
      "_view_module": "@jupyter-widgets/base",
      "_view_module_version": "1.2.0",
      "_view_name": "LayoutView",
      "align_content": null,
      "align_items": null,
      "align_self": null,
      "border": null,
      "bottom": null,
      "display": null,
      "flex": null,
      "flex_flow": null,
      "grid_area": null,
      "grid_auto_columns": null,
      "grid_auto_flow": null,
      "grid_auto_rows": null,
      "grid_column": null,
      "grid_gap": null,
      "grid_row": null,
      "grid_template_areas": null,
      "grid_template_columns": null,
      "grid_template_rows": null,
      "height": null,
      "justify_content": null,
      "justify_items": null,
      "left": null,
      "margin": null,
      "max_height": null,
      "max_width": null,
      "min_height": null,
      "min_width": null,
      "object_fit": null,
      "object_position": null,
      "order": null,
      "overflow": null,
      "overflow_x": null,
      "overflow_y": null,
      "padding": null,
      "right": null,
      "top": null,
      "visibility": null,
      "width": null
     }
    },
    "8346dadd8dcd437f9d0c73a8e86d4503": {
     "model_module": "@jupyter-widgets/base",
     "model_name": "LayoutModel",
     "state": {
      "_model_module": "@jupyter-widgets/base",
      "_model_module_version": "1.2.0",
      "_model_name": "LayoutModel",
      "_view_count": null,
      "_view_module": "@jupyter-widgets/base",
      "_view_module_version": "1.2.0",
      "_view_name": "LayoutView",
      "align_content": null,
      "align_items": null,
      "align_self": null,
      "border": null,
      "bottom": null,
      "display": null,
      "flex": null,
      "flex_flow": null,
      "grid_area": null,
      "grid_auto_columns": null,
      "grid_auto_flow": null,
      "grid_auto_rows": null,
      "grid_column": null,
      "grid_gap": null,
      "grid_row": null,
      "grid_template_areas": null,
      "grid_template_columns": null,
      "grid_template_rows": null,
      "height": null,
      "justify_content": null,
      "justify_items": null,
      "left": null,
      "margin": null,
      "max_height": null,
      "max_width": null,
      "min_height": null,
      "min_width": null,
      "object_fit": null,
      "object_position": null,
      "order": null,
      "overflow": null,
      "overflow_x": null,
      "overflow_y": null,
      "padding": null,
      "right": null,
      "top": null,
      "visibility": null,
      "width": null
     }
    },
    "87cad6ba7ef84d03a7f8c0cb37ec01ec": {
     "model_module": "@jupyter-widgets/controls",
     "model_name": "IntProgressModel",
     "state": {
      "_dom_classes": [],
      "_model_module": "@jupyter-widgets/controls",
      "_model_module_version": "1.5.0",
      "_model_name": "IntProgressModel",
      "_view_count": null,
      "_view_module": "@jupyter-widgets/controls",
      "_view_module_version": "1.5.0",
      "_view_name": "ProgressView",
      "bar_style": "success",
      "description": "",
      "description_tooltip": null,
      "layout": "IPY_MODEL_3f3ef2c146bf4dd38424170b3090b055",
      "max": 1,
      "min": 0,
      "orientation": "horizontal",
      "style": "IPY_MODEL_0f3b4a3b037d47cb8ba1196d7dbd3b98",
      "value": 1
     }
    },
    "adbb9a799ba44a91b927b44d0c27e6d1": {
     "model_module": "@jupyter-widgets/controls",
     "model_name": "DescriptionStyleModel",
     "state": {
      "_model_module": "@jupyter-widgets/controls",
      "_model_module_version": "1.5.0",
      "_model_name": "DescriptionStyleModel",
      "_view_count": null,
      "_view_module": "@jupyter-widgets/base",
      "_view_module_version": "1.2.0",
      "_view_name": "StyleView",
      "description_width": ""
     }
    },
    "b712d5d1ba464a378c00dbb2aec6dd8c": {
     "model_module": "@jupyter-widgets/controls",
     "model_name": "HTMLModel",
     "state": {
      "_dom_classes": [],
      "_model_module": "@jupyter-widgets/controls",
      "_model_module_version": "1.5.0",
      "_model_name": "HTMLModel",
      "_view_count": null,
      "_view_module": "@jupyter-widgets/controls",
      "_view_module_version": "1.5.0",
      "_view_name": "HTMLView",
      "description": "",
      "description_tooltip": null,
      "layout": "IPY_MODEL_44a89539615b4132a01ca7f5223ca281",
      "placeholder": "​",
      "style": "IPY_MODEL_adbb9a799ba44a91b927b44d0c27e6d1",
      "value": "170500096it [00:04, 37859309.77it/s]"
     }
    }
   }
  }
 },
 "nbformat": 4,
 "nbformat_minor": 1
}
