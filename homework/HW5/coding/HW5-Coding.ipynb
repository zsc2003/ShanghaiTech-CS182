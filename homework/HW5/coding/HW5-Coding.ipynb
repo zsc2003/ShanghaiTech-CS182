{
 "cells": [
  {
   "cell_type": "markdown",
   "metadata": {
    "colab_type": "text",
    "id": "Z_LTBtfMBvW_"
   },
   "source": [
    "# Homework 5: Convolutional neural network (30 points)\n"
   ]
  },
  {
   "cell_type": "markdown",
   "metadata": {},
   "source": [
    "In this part, you need to implement and train a convolutional neural network on the CIFAR-10 dataset with PyTorch.\n",
    "### What is PyTorch?\n",
    "\n",
    "PyTorch is a system for executing dynamic computational graphs over Tensor objects that behave similarly as numpy ndarray. It comes with a powerful automatic differentiation engine that removes the need for manual back-propagation. \n",
    "\n",
    "### Why?\n",
    "\n",
    "* Our code will now run on GPUs! Much faster training. When using a framework like PyTorch or TensorFlow you can harness the power of the GPU for your own custom neural network architectures without having to write CUDA code directly (which is beyond the scope of this class).\n",
    "* We want you to be ready to use one of these frameworks for your project so you can experiment more efficiently than if you were writing every feature you want to use by hand. \n",
    "* We want you to stand on the shoulders of giants! TensorFlow and PyTorch are both excellent frameworks that will make your lives a lot easier, and now that you understand their guts, you are free to use them :) \n",
    "* We want you to be exposed to the sort of deep learning code you might run into in academia or industry.\n",
    "## How can I learn PyTorch?\n",
    "\n",
    "Justin Johnson has made an excellent [tutorial](https://github.com/jcjohnson/pytorch-examples) for PyTorch. \n",
    "\n",
    "You can also find the detailed [API doc](http://pytorch.org/docs/stable/index.html) here. If you have other questions that are not addressed by the API docs, the [PyTorch forum](https://discuss.pytorch.org/) is a much better place to ask than StackOverflow."
   ]
  },
  {
   "cell_type": "markdown",
   "metadata": {
    "colab_type": "text",
    "id": "T33dD1e8tii2"
   },
   "source": [
    "Install PyTorch and Skorch."
   ]
  },
  {
   "cell_type": "code",
   "execution_count": 28,
   "metadata": {
    "colab": {
     "base_uri": "https://localhost:8080/",
     "height": 35
    },
    "colab_type": "code",
    "id": "pJB3VQYDCUmh",
    "outputId": "43ab27ff-b2fb-4f7b-f517-f2b029b18ba2"
   },
   "outputs": [],
   "source": [
    "!pip install -q torch skorch torchvision torchtext"
   ]
  },
  {
   "cell_type": "code",
   "execution_count": 30,
   "metadata": {
    "colab": {
     "base_uri": "https://localhost:8080/",
     "height": 72
    },
    "colab_type": "code",
    "id": "3l_Dl6qxCXmv",
    "outputId": "c0bbb1f4-081a-464e-bf46-a34c2767e83a"
   },
   "outputs": [],
   "source": [
    "import torch\n",
    "import torch.nn as nn\n",
    "import torch.nn.functional as F\n",
    "import torch.optim as optim\n",
    "import torchvision\n",
    "import torchvision.transforms as transforms\n",
    "import skorch\n",
    "import sklearn\n",
    "import numpy as np\n",
    "import matplotlib.pyplot as plt\n",
    "import pandas as pd"
   ]
  },
  {
   "attachments": {},
   "cell_type": "markdown",
   "metadata": {
    "colab_type": "text",
    "id": "uevQtU7NtZ_-"
   },
   "source": [
    "## 0. Tensor Operations (5 points)\n",
    "\n",
    "Tensor operations are important in deep learning models. In this part, you are required to get famaliar to some common tensor operations in PyTorch."
   ]
  },
  {
   "cell_type": "markdown",
   "metadata": {
    "colab_type": "text",
    "id": "5DeQOItkeQCx"
   },
   "source": [
    "### 1) Tensor squeezing, unsqueezing and viewing"
   ]
  },
  {
   "cell_type": "markdown",
   "metadata": {
    "colab_type": "text",
    "id": "pAOmBE5ODwpP"
   },
   "source": [
    "Tensor squeezing, unsqueezing and viewing are important methods to change the dimension of a Tensor, and the corresponding functions are [torch.squeeze](https://pytorch.org/docs/stable/torch.html#torch.squeeze), [torch.unsqueeze](https://pytorch.org/docs/stable/torch.html#torch.unsqueeze) and [torch.Tensor.view](https://pytorch.org/docs/stable/tensors.html#torch.Tensor.view). Please read the documents of the functions, and finish the following practice."
   ]
  },
  {
   "cell_type": "code",
   "execution_count": 35,
   "metadata": {
    "colab": {
     "base_uri": "https://localhost:8080/",
     "height": 70
    },
    "colab_type": "code",
    "id": "hVrM80YxFSjb",
    "outputId": "933f2576-b413-4516-a3f8-5fa4fbe60b38"
   },
   "outputs": [
    {
     "name": "stdout",
     "output_type": "stream",
     "text": [
      "torch.Size([3, 1, 2, 1])\n",
      "torch.Size([3, 2])\n",
      "torch.Size([6])\n"
     ]
    }
   ],
   "source": [
    "# x is a tensor with size being (3, 2)\n",
    "x = torch.Tensor([[1, 2], \n",
    "                  [3, 4], \n",
    "                  [5, 6]])\n",
    "x.shape\n",
    "\n",
    "# Add two new dimensions to x by using the function torch.unsqueeze, so that the size of x becomes (3, 1, 2, 1).\n",
    "x = torch.unsqueeze(x, 1)\n",
    "x = torch.unsqueeze(x, 3)\n",
    "print(x.shape)\n",
    "\n",
    "# Remove the two dimensions justed added by using the function torch.squeeze, and change the size of x back to (3, 2).\n",
    "x = torch.squeeze(x, 3)\n",
    "x = torch.squeeze(x, 1)\n",
    "# x = torch.squeeze(x, (0, 2)) # in torch 2.0 this will work \n",
    "print(x.shape)\n",
    "\n",
    "# x is now a two-dimensional tensor, or in other words a matrix. Now use the function torch.Tensor.view and change x to a one-dimensional vector with size being (6).\n",
    "x = x.view(6)\n",
    "print(x.shape)"
   ]
  },
  {
   "cell_type": "markdown",
   "metadata": {
    "colab_type": "text",
    "id": "liuR-U0wea0n"
   },
   "source": [
    "### 2) Tensor concatenation and stack"
   ]
  },
  {
   "cell_type": "markdown",
   "metadata": {
    "colab_type": "text",
    "id": "pkbnt6v8Bo-j"
   },
   "source": [
    "Tensor concatenation and stack are operations to combine small tensors into big tensors. The corresponding functions are [torch.cat](https://pytorch.org/docs/stable/torch.html#torch.cat) and [torch.stack](https://pytorch.org/docs/stable/torch.html#torch.stack). Please read the documents of the functions, and finish the following practice."
   ]
  },
  {
   "cell_type": "code",
   "execution_count": null,
   "metadata": {
    "colab": {
     "base_uri": "https://localhost:8080/",
     "height": 70
    },
    "colab_type": "code",
    "id": "b9KqXu3Stfjh",
    "outputId": "97f17754-1e49-4a77-df8a-46a1200ea170"
   },
   "outputs": [],
   "source": [
    "# x is a tensor with size being (3, 2)\n",
    "x = torch.Tensor([[1, 2], [3, 4], [5, 6]])\n",
    "\n",
    "# y is a tensor with size being (3, 2)\n",
    "y = torch.Tensor([[-1, -2], [-3, -4], [-5, -6]])\n",
    "\n",
    "# Our goal is to generate a tensor z with size as (2, 3, 2), and z[0,:,:] = x, z[1,:,:] = y.\n",
    "\n",
    "# Use torch.stack to generate such a z\n",
    "pass\n",
    "print(z[0,:,:])\n",
    "# Use torch.cat and torch.unsqueeze to generate such a z\n",
    "pass\n",
    "print(z[1,:,:])"
   ]
  },
  {
   "cell_type": "markdown",
   "metadata": {
    "colab_type": "text",
    "id": "WGw4eEo-eeHm"
   },
   "source": [
    "### 3) Tensor expansion"
   ]
  },
  {
   "cell_type": "markdown",
   "metadata": {
    "colab_type": "text",
    "id": "KAII9eJgJFK2"
   },
   "source": [
    "Tensor expansion is to expand a tensor into a larger tensor along singleton dimensions. The corresponding functions are [torch.Tensor.expand](https://pytorch.org/docs/stable/tensors.html#torch.Tensor.expand) and [torch.Tensor.expand_as](https://pytorch.org/docs/stable/tensors.html#torch.Tensor.expand_as). Please read the documents of the functions, and finish the following practice. "
   ]
  },
  {
   "cell_type": "code",
   "execution_count": null,
   "metadata": {
    "colab": {
     "base_uri": "https://localhost:8080/",
     "height": 69
    },
    "colab_type": "code",
    "id": "sQbFte-AJzVL",
    "outputId": "0505d6ed-fcff-40b1-d373-2510a4deb373"
   },
   "outputs": [],
   "source": [
    "# x is a tensor with size being (3)\n",
    "x = torch.Tensor([1, 2, 3])\n",
    "\n",
    "# Our goal is to generate a tensor z with size (2, 3), so that z[0,:,:] = x, z[1,:,:] = x.\n",
    "\n",
    "# [TO DO]\n",
    "# Change the size of x into (1, 3) by using torch.unsqueeze.\n",
    "pass\n",
    "print(x.shape)\n",
    "\n",
    "# [TO DO]\n",
    "# Then expand the new tensor to the target tensor by using torch.Tensor.expand.\n",
    "pass\n",
    "print(z.shape)"
   ]
  },
  {
   "cell_type": "markdown",
   "metadata": {
    "colab_type": "text",
    "id": "0rFL_Shoef3m"
   },
   "source": [
    "### 4) Tensor reduction in a given dimension"
   ]
  },
  {
   "cell_type": "markdown",
   "metadata": {
    "colab_type": "text",
    "id": "fmEoJVw0LL9H"
   },
   "source": [
    "In deep learning, we often need to compute the mean/sum/max/min value in a given dimension of a tensor. Please read the document of [torch.mean](https://pytorch.org/docs/stable/torch.html#torch.mean), [torch.sum](https://pytorch.org/docs/stable/torch.html#torch.sum), [torch.max](https://pytorch.org/docs/stable/torch.html#torch.max), [torch.min](https://pytorch.org/docs/stable/torch.html#torch.min), [torch.topk](https://pytorch.org/docs/stable/torch.html#torch.topk), and finish the following practice."
   ]
  },
  {
   "cell_type": "code",
   "execution_count": null,
   "metadata": {
    "colab": {
     "base_uri": "https://localhost:8080/",
     "height": 87
    },
    "colab_type": "code",
    "id": "A7dlZwe4MNxo",
    "outputId": "1148ec88-6f73-4cdc-8471-40d431ca429b"
   },
   "outputs": [],
   "source": [
    "# x is a random tensor with size being (10, 50)\n",
    "x = torch.randn(10, 50)\n",
    "\n",
    "# Compute the mean value for each row of x.\n",
    "# You need to generate a tensor x_mean of size (10), and x_mean[k, :] is the mean value of the k-th row of x.\n",
    "pass\n",
    "print(x_mean[3, ])\n",
    "\n",
    "# Compute the sum value for each row of x.\n",
    "# You need to generate a tensor x_sum of size (10).\n",
    "pass\n",
    "print(x_sum.shape)\n",
    "\n",
    "# Compute the max value for each row of x.\n",
    "# You need to generate a tensor x_max of size (10).\n",
    "pass\n",
    "print(x_max.shape)\n",
    "\n",
    "# Compute the min value for each row of x.\n",
    "# You need to generate a tensor x_min of size (10).\n",
    "pass\n",
    "print(x_min.shape)\n",
    "\n",
    "# Compute the top-5 values for each row of x.\n",
    "# You need to generate a tensor x_mean of size (10, 5), and x_top[k, :] is the top-5 values of each row in x.\n",
    "pass\n",
    "print((x_xtop.shape))\n"
   ]
  },
  {
   "cell_type": "markdown",
   "metadata": {
    "colab_type": "text",
    "id": "I49qjiqHB9oa"
   },
   "source": [
    "## Convolutional Neural Networks\n",
    "\n"
   ]
  },
  {
   "cell_type": "markdown",
   "metadata": {
    "colab_type": "text",
    "id": "JePbG5pSt1xv"
   },
   "source": [
    "Implement a convolutional neural network for image classification on CIFAR-10 dataset.\n",
    "\n",
    "CIFAR-10 is an image dataset of 10 categories. Each image has a size of 32x32 pixels. The following code will download the dataset, and split it into `train` and `test`. For this question, we use the default validation split generated by Skorch."
   ]
  },
  {
   "cell_type": "code",
   "execution_count": null,
   "metadata": {
    "colab": {
     "base_uri": "https://localhost:8080/",
     "height": 120,
     "referenced_widgets": [
      "310efd92386a4757a767d5204b08a865",
      "8346dadd8dcd437f9d0c73a8e86d4503",
      "87cad6ba7ef84d03a7f8c0cb37ec01ec",
      "b712d5d1ba464a378c00dbb2aec6dd8c",
      "0f3b4a3b037d47cb8ba1196d7dbd3b98",
      "3f3ef2c146bf4dd38424170b3090b055",
      "adbb9a799ba44a91b927b44d0c27e6d1",
      "44a89539615b4132a01ca7f5223ca281"
     ]
    },
    "colab_type": "code",
    "id": "sQxOUQ29BuMB",
    "outputId": "fe539e24-4cd1-42ef-8bda-9ec1a0accd54"
   },
   "outputs": [],
   "source": [
    "train = torchvision.datasets.CIFAR10(\"./data\", train=True, download=True)\n",
    "test = torchvision.datasets.CIFAR10(\"./data\", train=False, download=True)"
   ]
  },
  {
   "cell_type": "markdown",
   "metadata": {
    "colab_type": "text",
    "id": "ieBpiwMwi6wD"
   },
   "source": [
    "The following code visualizes some samples in the dataset. You may use it to debug your model if necessary."
   ]
  },
  {
   "cell_type": "code",
   "execution_count": null,
   "metadata": {
    "colab": {
     "base_uri": "https://localhost:8080/",
     "height": 108
    },
    "colab_type": "code",
    "id": "cU5HrxybupyJ",
    "outputId": "c9568768-b950-40b7-c16a-9d21a0969075"
   },
   "outputs": [],
   "source": [
    "def plot(data, labels=None, num_sample=5):\n",
    "  n = min(len(data), num_sample)\n",
    "  for i in range(n):\n",
    "    plt.subplot(1, n, i+1)\n",
    "    plt.imshow(data[i], cmap=\"gray\")\n",
    "    plt.xticks([])\n",
    "    plt.yticks([])\n",
    "    if labels is not None:\n",
    "      plt.title(labels[i])\n",
    "\n",
    "train.labels = [train.classes[target] for target in train.targets]\n",
    "plot(train.data, train.labels)"
   ]
  },
  {
   "cell_type": "markdown",
   "metadata": {
    "colab_type": "text",
    "id": "JwzKmdcuCv1D"
   },
   "source": [
    "### 1) Basic CNN implementation\n"
   ]
  },
  {
   "cell_type": "markdown",
   "metadata": {
    "colab_type": "text",
    "id": "TbEYo5WgjTtm"
   },
   "source": [
    "Consider a basic CNN model\n",
    "\n",
    "- It has 3 convolutional layers, followed by a linear layer.\n",
    "- Each convolutional layer has a kernel size of 3, a padding of 1.\n",
    "- ReLU activation is applied on every hidden layer.\n",
    "\n",
    "Please implement this model in the following section. The hyperparameters is then be tuned and you need to fill the results in the table."
   ]
  },
  {
   "cell_type": "markdown",
   "metadata": {
    "colab_type": "text",
    "id": "OZKyE2GUfL-Z"
   },
   "source": [
    "#### a) Implement convolutional layers (10 Points)"
   ]
  },
  {
   "cell_type": "markdown",
   "metadata": {
    "colab_type": "text",
    "id": "4P_aYytExtq9"
   },
   "source": [
    "Implement the initialization function and the forward function of the CNN."
   ]
  },
  {
   "cell_type": "code",
   "execution_count": null,
   "metadata": {
    "colab": {},
    "colab_type": "code",
    "id": "sDmCKUD1LBFk"
   },
   "outputs": [],
   "source": [
    "class CNN(nn.Module):\n",
    "  def __init__(self, channels):\n",
    "    super(CNN, self).__init__()\n",
    "    # implement parameter definitions here\n",
    "    # *****START OF YOUR CODE (DO NOT DELETE/MODIFY THIS LINE)*****\n",
    "    pass\n",
    "    # *****END OF YOUR CODE (DO NOT DELETE/MODIFY THIS LINE)*****\n",
    "  def forward(self, images):\n",
    "    # implement the forward function here\n",
    "    # *****START OF YOUR CODE (DO NOT DELETE/MODIFY THIS LINE)*****\n",
    "    pass\n",
    "    # *****END OF YOUR CODE (DO NOT DELETE/MODIFY THIS LINE)*****\n",
    "    return images"
   ]
  },
  {
   "cell_type": "markdown",
   "metadata": {
    "colab_type": "text",
    "id": "E_YaASPpgRiL"
   },
   "source": [
    "#### b) Tune hyperparameters"
   ]
  },
  {
   "cell_type": "markdown",
   "metadata": {
    "colab_type": "text",
    "id": "ygMcDdpy6XWP"
   },
   "source": [
    "Train the CNN model on CIFAR-10 dataset. We can tune the number of channels, optimizer, learning rate and the number of epochs for best validation accuracy."
   ]
  },
  {
   "cell_type": "code",
   "execution_count": null,
   "metadata": {
    "colab": {
     "base_uri": "https://localhost:8080/",
     "height": 1000
    },
    "colab_type": "code",
    "id": "JUaguxFA5xOp",
    "outputId": "e74d78b8-10c0-414a-93d4-128f8ca4b2fd"
   },
   "outputs": [],
   "source": [
    "# implement hyperparameters, you can select and modify the hyperparameters by yourself here.\n",
    "\n",
    "optimize = [torch.optim.SGD, torch.optim.Adam]\n",
    "learning_rate = [1e-3, 1e-2]\n",
    "channel = [128, 256, 512]\n",
    "\n",
    "\n",
    "train_data_normalized = torch.Tensor(train.data/255)\n",
    "train_data_normalized = train_data_normalized.permute(0,3,1,2)\n",
    "\n",
    "for l in learning_rate:\n",
    "  for o in optimize: \n",
    "    for c in channel:\n",
    "      print(f'The channel was {c}, the learning rate was {l} and the optimizer was {str(o)}')\n",
    "\n",
    "      cnn = CNN(channels = c)\n",
    "      \n",
    "      model = skorch.NeuralNetClassifier(cnn, criterion=torch.nn.CrossEntropyLoss,\n",
    "                                   device=\"cuda\",\n",
    "                                   optimizer=o,\n",
    "                                  # optimizer__momentum=0.90,\n",
    "                                   lr=l,\n",
    "                                   max_epochs=50,\n",
    "                                   batch_size=32,\n",
    "                                   callbacks=[skorch.callbacks.EarlyStopping(lower_is_better=True)])\n",
    "      # implement input normalization & type cast here \n",
    "      model.fit(train_data_normalized, np.asarray(train.targets))"
   ]
  },
  {
   "cell_type": "markdown",
   "metadata": {
    "colab_type": "text",
    "id": "w-EHKzozkRbD"
   },
   "source": [
    "Write down **validation accuracy** of your model under different hyperparameter settings. Note the validation set is automatically split by Skorch during `model.fit()`.\n",
    "\n",
    "\n",
    "| #channel for each layer \\ optimizer | SGD   | Adam  |\n",
    "|-------------------------------------|-------|-------|\n",
    "|                                     |       |       |\n",
    "|                                     |       |       |\n",
    "|                                     |       |       |\n"
   ]
  },
  {
   "cell_type": "markdown",
   "metadata": {
    "colab_type": "text",
    "id": "go55LVSJd-vG"
   },
   "source": [
    "### 2) Full CNN implementation (10 points)"
   ]
  },
  {
   "cell_type": "markdown",
   "metadata": {
    "colab_type": "text",
    "id": "6G0eCj6OmOEE"
   },
   "source": [
    "Based on the CNN in the previous question, implement a full CNN model with max pooling layer.\n",
    "\n",
    "- Add a max pooling layer after each convolutional layer.\n",
    "- Each max pooling layer has a kernel size of 2 and a stride of 2.\n",
    "\n",
    "Please implement this model in the following section. The hyperparameters is then be tuned and fill the results in the table. You are also required to complete the questions."
   ]
  },
  {
   "cell_type": "markdown",
   "metadata": {
    "colab_type": "text",
    "id": "bMrKGlMQhCa0"
   },
   "source": [
    "#### a) Implement max pooling layers"
   ]
  },
  {
   "cell_type": "markdown",
   "metadata": {
    "colab_type": "text",
    "id": "g2INt6P3Myd1"
   },
   "source": [
    "Similar to the CNN implementation in previous question, implement max pooling layers."
   ]
  },
  {
   "cell_type": "code",
   "execution_count": null,
   "metadata": {
    "colab": {},
    "colab_type": "code",
    "id": "DHu3Ic2dM1S9"
   },
   "outputs": [],
   "source": [
    "class CNN_MaxPool(nn.Module):\n",
    "  def __init__(self，channels):\n",
    "    super(CNN_MaxPool, self).__init__()\n",
    "    # implement parameter definitions here\n",
    "    # *****START OF YOUR CODE (DO NOT DELETE/MODIFY THIS LINE)*****\n",
    "    pass\n",
    "    # *****END OF YOUR CODE (DO NOT DELETE/MODIFY THIS LINE)*****\n",
    "  \n",
    "  def forward(self, images):\n",
    "    # implement the forward function here\n",
    "    # *****START OF YOUR CODE (DO NOT DELETE/MODIFY THIS LINE)*****\n",
    "    pass\n",
    "    # *****END OF YOUR CODE (DO NOT DELETE/MODIFY THIS LINE)*****\n",
    "    return images"
   ]
  },
  {
   "cell_type": "markdown",
   "metadata": {
    "colab_type": "text",
    "id": "-A6AEOoigq68"
   },
   "source": [
    "#### b) Tune hyperparameters"
   ]
  },
  {
   "cell_type": "markdown",
   "metadata": {
    "colab_type": "text",
    "id": "drH4MHSVNqwz"
   },
   "source": [
    "Based on the better optimizer found in the previous problem, we can tune the number of channels and learning rate for best validation accuracy."
   ]
  },
  {
   "cell_type": "code",
   "execution_count": null,
   "metadata": {
    "colab": {
     "base_uri": "https://localhost:8080/",
     "height": 515
    },
    "colab_type": "code",
    "id": "7povzg-4Nhrr",
    "outputId": "edff26c7-6f98-49be-cac4-9e6ef53c83c7"
   },
   "outputs": [],
   "source": [
    "# implement hyperparameters, you can select and modify the hyperparameters by yourself here.\n",
    "learning_rate = [1e-4, 1e-3, 1e-2]\n",
    "channel = [128, 256, 512]\n",
    "# Select the better optimizer by the result shown in the previous problem, you can select and modify it by yourself here.\n",
    "better_optimizer = torch.optim.Adam  \n",
    "\n",
    "train_data_normalized = torch.Tensor(train.data/255)\n",
    "train_data_normalized = train_data_normalized.permute(0,3,1,2)\n",
    "\n",
    "for l in learning_rate:\n",
    "    for c in channel:\n",
    "      print(f'The channel was {c}, the learning rate was {l}')\n",
    "\n",
    "      cnn = CNN_MaxPool(channels = c)\n",
    "      \n",
    "      model = skorch.NeuralNetClassifier(cnn, criterion=torch.nn.CrossEntropyLoss,\n",
    "                                   device=\"cuda\",\n",
    "                                   optimizer=better_optimizer,\n",
    "                                   lr=l,\n",
    "                                   max_epochs=50,\n",
    "                                   batch_size=32,\n",
    "                                   callbacks=[skorch.callbacks.EarlyStopping(lower_is_better=True)])\n",
    "      # implement input normalization & type cast here \n",
    "      model.fit(train_data_normalized, np.asarray(train.targets))"
   ]
  },
  {
   "cell_type": "markdown",
   "metadata": {
    "colab_type": "text",
    "id": "H7Mu2ZZHoZU0"
   },
   "source": [
    "Write down the **validation accuracy** of the model under different hyperparameter settings.\n",
    "\n",
    "| #channel for each layer | validation accuracy |\n",
    "|-------------------------|---------------------|\n",
    "|                         |                     |\n",
    "|                         |                     |\n",
    "|                         |                     |"
   ]
  },
  {
   "cell_type": "markdown",
   "metadata": {
    "colab_type": "text",
    "id": "8UCaz8nWoWWS"
   },
   "source": [
    "For the best model you have, test it on the test set."
   ]
  },
  {
   "cell_type": "code",
   "execution_count": null,
   "metadata": {
    "colab": {
     "base_uri": "https://localhost:8080/",
     "height": 35
    },
    "colab_type": "code",
    "id": "bTtBk22OECDD",
    "outputId": "40229a37-f53c-4837-de75-8a63b3f66889"
   },
   "outputs": [],
   "source": [
    "# implement the same input normalization & type cast here\n",
    "test_data_normalized = torch.Tensor(test.data/255) \n",
    "test_data_normalized = test_data_normalized.permute(0,3,1,2)\n",
    "test.predictions = model.predict(test_data_normalized)\n",
    "sklearn.metrics.accuracy_score(test.targets, test.predictions)"
   ]
  },
  {
   "attachments": {},
   "cell_type": "markdown",
   "metadata": {
    "colab_type": "text",
    "id": "kSbhC8f1or6_"
   },
   "source": [
    "How much **test accuracy** do you get? What can you conclude for the design of CNN structure and tuning of hyperparameters? (5 points)\n",
    "\n",
    "**Your Answer:** "
   ]
  }
 ],
 "metadata": {
  "accelerator": "GPU",
  "colab": {
   "collapsed_sections": [],
   "include_colab_link": true,
   "machine_shape": "hm",
   "name": "Adrien Hernandez Homework 1 - PyTorch",
   "provenance": []
  },
  "kernelspec": {
   "display_name": "Python 3 (ipykernel)",
   "language": "python",
   "name": "python3"
  },
  "language_info": {
   "codemirror_mode": {
    "name": "ipython",
    "version": 3
   },
   "file_extension": ".py",
   "mimetype": "text/x-python",
   "name": "python",
   "nbconvert_exporter": "python",
   "pygments_lexer": "ipython3",
   "version": "3.9.12"
  },
  "widgets": {
   "application/vnd.jupyter.widget-state+json": {
    "0f3b4a3b037d47cb8ba1196d7dbd3b98": {
     "model_module": "@jupyter-widgets/controls",
     "model_name": "ProgressStyleModel",
     "state": {
      "_model_module": "@jupyter-widgets/controls",
      "_model_module_version": "1.5.0",
      "_model_name": "ProgressStyleModel",
      "_view_count": null,
      "_view_module": "@jupyter-widgets/base",
      "_view_module_version": "1.2.0",
      "_view_name": "StyleView",
      "bar_color": null,
      "description_width": ""
     }
    },
    "310efd92386a4757a767d5204b08a865": {
     "model_module": "@jupyter-widgets/controls",
     "model_name": "HBoxModel",
     "state": {
      "_dom_classes": [],
      "_model_module": "@jupyter-widgets/controls",
      "_model_module_version": "1.5.0",
      "_model_name": "HBoxModel",
      "_view_count": null,
      "_view_module": "@jupyter-widgets/controls",
      "_view_module_version": "1.5.0",
      "_view_name": "HBoxView",
      "box_style": "",
      "children": [
       "IPY_MODEL_87cad6ba7ef84d03a7f8c0cb37ec01ec",
       "IPY_MODEL_b712d5d1ba464a378c00dbb2aec6dd8c"
      ],
      "layout": "IPY_MODEL_8346dadd8dcd437f9d0c73a8e86d4503"
     }
    },
    "3f3ef2c146bf4dd38424170b3090b055": {
     "model_module": "@jupyter-widgets/base",
     "model_name": "LayoutModel",
     "state": {
      "_model_module": "@jupyter-widgets/base",
      "_model_module_version": "1.2.0",
      "_model_name": "LayoutModel",
      "_view_count": null,
      "_view_module": "@jupyter-widgets/base",
      "_view_module_version": "1.2.0",
      "_view_name": "LayoutView",
      "align_content": null,
      "align_items": null,
      "align_self": null,
      "border": null,
      "bottom": null,
      "display": null,
      "flex": null,
      "flex_flow": null,
      "grid_area": null,
      "grid_auto_columns": null,
      "grid_auto_flow": null,
      "grid_auto_rows": null,
      "grid_column": null,
      "grid_gap": null,
      "grid_row": null,
      "grid_template_areas": null,
      "grid_template_columns": null,
      "grid_template_rows": null,
      "height": null,
      "justify_content": null,
      "justify_items": null,
      "left": null,
      "margin": null,
      "max_height": null,
      "max_width": null,
      "min_height": null,
      "min_width": null,
      "object_fit": null,
      "object_position": null,
      "order": null,
      "overflow": null,
      "overflow_x": null,
      "overflow_y": null,
      "padding": null,
      "right": null,
      "top": null,
      "visibility": null,
      "width": null
     }
    },
    "44a89539615b4132a01ca7f5223ca281": {
     "model_module": "@jupyter-widgets/base",
     "model_name": "LayoutModel",
     "state": {
      "_model_module": "@jupyter-widgets/base",
      "_model_module_version": "1.2.0",
      "_model_name": "LayoutModel",
      "_view_count": null,
      "_view_module": "@jupyter-widgets/base",
      "_view_module_version": "1.2.0",
      "_view_name": "LayoutView",
      "align_content": null,
      "align_items": null,
      "align_self": null,
      "border": null,
      "bottom": null,
      "display": null,
      "flex": null,
      "flex_flow": null,
      "grid_area": null,
      "grid_auto_columns": null,
      "grid_auto_flow": null,
      "grid_auto_rows": null,
      "grid_column": null,
      "grid_gap": null,
      "grid_row": null,
      "grid_template_areas": null,
      "grid_template_columns": null,
      "grid_template_rows": null,
      "height": null,
      "justify_content": null,
      "justify_items": null,
      "left": null,
      "margin": null,
      "max_height": null,
      "max_width": null,
      "min_height": null,
      "min_width": null,
      "object_fit": null,
      "object_position": null,
      "order": null,
      "overflow": null,
      "overflow_x": null,
      "overflow_y": null,
      "padding": null,
      "right": null,
      "top": null,
      "visibility": null,
      "width": null
     }
    },
    "8346dadd8dcd437f9d0c73a8e86d4503": {
     "model_module": "@jupyter-widgets/base",
     "model_name": "LayoutModel",
     "state": {
      "_model_module": "@jupyter-widgets/base",
      "_model_module_version": "1.2.0",
      "_model_name": "LayoutModel",
      "_view_count": null,
      "_view_module": "@jupyter-widgets/base",
      "_view_module_version": "1.2.0",
      "_view_name": "LayoutView",
      "align_content": null,
      "align_items": null,
      "align_self": null,
      "border": null,
      "bottom": null,
      "display": null,
      "flex": null,
      "flex_flow": null,
      "grid_area": null,
      "grid_auto_columns": null,
      "grid_auto_flow": null,
      "grid_auto_rows": null,
      "grid_column": null,
      "grid_gap": null,
      "grid_row": null,
      "grid_template_areas": null,
      "grid_template_columns": null,
      "grid_template_rows": null,
      "height": null,
      "justify_content": null,
      "justify_items": null,
      "left": null,
      "margin": null,
      "max_height": null,
      "max_width": null,
      "min_height": null,
      "min_width": null,
      "object_fit": null,
      "object_position": null,
      "order": null,
      "overflow": null,
      "overflow_x": null,
      "overflow_y": null,
      "padding": null,
      "right": null,
      "top": null,
      "visibility": null,
      "width": null
     }
    },
    "87cad6ba7ef84d03a7f8c0cb37ec01ec": {
     "model_module": "@jupyter-widgets/controls",
     "model_name": "IntProgressModel",
     "state": {
      "_dom_classes": [],
      "_model_module": "@jupyter-widgets/controls",
      "_model_module_version": "1.5.0",
      "_model_name": "IntProgressModel",
      "_view_count": null,
      "_view_module": "@jupyter-widgets/controls",
      "_view_module_version": "1.5.0",
      "_view_name": "ProgressView",
      "bar_style": "success",
      "description": "",
      "description_tooltip": null,
      "layout": "IPY_MODEL_3f3ef2c146bf4dd38424170b3090b055",
      "max": 1,
      "min": 0,
      "orientation": "horizontal",
      "style": "IPY_MODEL_0f3b4a3b037d47cb8ba1196d7dbd3b98",
      "value": 1
     }
    },
    "adbb9a799ba44a91b927b44d0c27e6d1": {
     "model_module": "@jupyter-widgets/controls",
     "model_name": "DescriptionStyleModel",
     "state": {
      "_model_module": "@jupyter-widgets/controls",
      "_model_module_version": "1.5.0",
      "_model_name": "DescriptionStyleModel",
      "_view_count": null,
      "_view_module": "@jupyter-widgets/base",
      "_view_module_version": "1.2.0",
      "_view_name": "StyleView",
      "description_width": ""
     }
    },
    "b712d5d1ba464a378c00dbb2aec6dd8c": {
     "model_module": "@jupyter-widgets/controls",
     "model_name": "HTMLModel",
     "state": {
      "_dom_classes": [],
      "_model_module": "@jupyter-widgets/controls",
      "_model_module_version": "1.5.0",
      "_model_name": "HTMLModel",
      "_view_count": null,
      "_view_module": "@jupyter-widgets/controls",
      "_view_module_version": "1.5.0",
      "_view_name": "HTMLView",
      "description": "",
      "description_tooltip": null,
      "layout": "IPY_MODEL_44a89539615b4132a01ca7f5223ca281",
      "placeholder": "​",
      "style": "IPY_MODEL_adbb9a799ba44a91b927b44d0c27e6d1",
      "value": "170500096it [00:04, 37859309.77it/s]"
     }
    }
   }
  }
 },
 "nbformat": 4,
 "nbformat_minor": 1
}
