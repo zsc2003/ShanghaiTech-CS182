{
 "cells": [
  {
   "attachments": {},
   "cell_type": "markdown",
   "metadata": {},
   "source": [
    "# PyTorch Quick Tutorial\n",
    "\n",
    "This tutorial is a quick introduction to PyTorch and its basic features.\n",
    "1. Numpy-like operations\n",
    "2. Automatic differentiation\n",
    "\n",
    "An example: LeNet-5 on MNIST dataset (Convolutional Neural Network)\n",
    "1. Data loading, preprocessing\n",
    "2. Build model with torch.nn\n",
    "3. Optimizer (optimizer, hyperparameters, scheduler)\n",
    "4. Loss function (Criterion, customized regularization)\n",
    "5. Training loop\n",
    "6. Evaluation (validation and test)\n",
    "7. Save and load model"
   ]
  },
  {
   "cell_type": "code",
   "execution_count": 1,
   "metadata": {},
   "outputs": [
    {
     "name": "stdout",
     "output_type": "stream",
     "text": [
      "Requirement already satisfied: torch in c:\\users\\administrator\\appdata\\local\\programs\\python\\python311\\lib\\site-packages (2.0.1)\n",
      "Requirement already satisfied: torchvision in c:\\users\\administrator\\appdata\\local\\programs\\python\\python311\\lib\\site-packages (0.15.2)\n",
      "Requirement already satisfied: filelock in c:\\users\\administrator\\appdata\\local\\programs\\python\\python311\\lib\\site-packages (from torch) (3.12.2)\n",
      "Requirement already satisfied: typing-extensions in c:\\users\\administrator\\appdata\\local\\programs\\python\\python311\\lib\\site-packages (from torch) (4.7.0)\n",
      "Requirement already satisfied: sympy in c:\\users\\administrator\\appdata\\local\\programs\\python\\python311\\lib\\site-packages (from torch) (1.12)\n",
      "Requirement already satisfied: networkx in c:\\users\\administrator\\appdata\\local\\programs\\python\\python311\\lib\\site-packages (from torch) (3.1)\n",
      "Requirement already satisfied: jinja2 in c:\\users\\administrator\\appdata\\local\\programs\\python\\python311\\lib\\site-packages (from torch) (3.1.2)\n",
      "Requirement already satisfied: numpy in c:\\users\\administrator\\appdata\\local\\programs\\python\\python311\\lib\\site-packages (from torchvision) (1.25.0)\n",
      "Requirement already satisfied: requests in c:\\users\\administrator\\appdata\\local\\programs\\python\\python311\\lib\\site-packages (from torchvision) (2.31.0)\n",
      "Requirement already satisfied: pillow!=8.3.*,>=5.3.0 in c:\\users\\administrator\\appdata\\local\\programs\\python\\python311\\lib\\site-packages (from torchvision) (9.5.0)\n",
      "Requirement already satisfied: MarkupSafe>=2.0 in c:\\users\\administrator\\appdata\\local\\programs\\python\\python311\\lib\\site-packages (from jinja2->torch) (2.1.3)\n",
      "Requirement already satisfied: charset-normalizer<4,>=2 in c:\\users\\administrator\\appdata\\local\\programs\\python\\python311\\lib\\site-packages (from requests->torchvision) (3.1.0)\n",
      "Requirement already satisfied: idna<4,>=2.5 in c:\\users\\administrator\\appdata\\local\\programs\\python\\python311\\lib\\site-packages (from requests->torchvision) (3.4)\n",
      "Requirement already satisfied: urllib3<3,>=1.21.1 in c:\\users\\administrator\\appdata\\local\\programs\\python\\python311\\lib\\site-packages (from requests->torchvision) (1.26.18)\n",
      "Requirement already satisfied: certifi>=2017.4.17 in c:\\users\\administrator\\appdata\\local\\programs\\python\\python311\\lib\\site-packages (from requests->torchvision) (2023.5.7)\n",
      "Requirement already satisfied: mpmath>=0.19 in c:\\users\\administrator\\appdata\\local\\programs\\python\\python311\\lib\\site-packages (from sympy->torch) (1.3.0)\n"
     ]
    },
    {
     "name": "stderr",
     "output_type": "stream",
     "text": [
      "\n",
      "[notice] A new release of pip is available: 23.1.2 -> 23.3.2\n",
      "[notice] To update, run: python.exe -m pip install --upgrade pip\n"
     ]
    },
    {
     "name": "stdout",
     "output_type": "stream",
     "text": [
      "Requirement already satisfied: torchsummary in c:\\users\\administrator\\appdata\\local\\programs\\python\\python311\\lib\\site-packages (1.5.1)\n"
     ]
    },
    {
     "name": "stderr",
     "output_type": "stream",
     "text": [
      "\n",
      "[notice] A new release of pip is available: 23.1.2 -> 23.3.2\n",
      "[notice] To update, run: python.exe -m pip install --upgrade pip\n"
     ]
    },
    {
     "name": "stdout",
     "output_type": "stream",
     "text": [
      "Requirement already satisfied: torchviz in c:\\users\\administrator\\appdata\\local\\programs\\python\\python311\\lib\\site-packages (0.0.2)\n",
      "Requirement already satisfied: torch in c:\\users\\administrator\\appdata\\local\\programs\\python\\python311\\lib\\site-packages (from torchviz) (2.0.1)\n",
      "Requirement already satisfied: graphviz in c:\\users\\administrator\\appdata\\local\\programs\\python\\python311\\lib\\site-packages (from torchviz) (0.20.1)\n",
      "Requirement already satisfied: filelock in c:\\users\\administrator\\appdata\\local\\programs\\python\\python311\\lib\\site-packages (from torch->torchviz) (3.12.2)\n",
      "Requirement already satisfied: typing-extensions in c:\\users\\administrator\\appdata\\local\\programs\\python\\python311\\lib\\site-packages (from torch->torchviz) (4.7.0)\n",
      "Requirement already satisfied: sympy in c:\\users\\administrator\\appdata\\local\\programs\\python\\python311\\lib\\site-packages (from torch->torchviz) (1.12)\n",
      "Requirement already satisfied: networkx in c:\\users\\administrator\\appdata\\local\\programs\\python\\python311\\lib\\site-packages (from torch->torchviz) (3.1)\n",
      "Requirement already satisfied: jinja2 in c:\\users\\administrator\\appdata\\local\\programs\\python\\python311\\lib\\site-packages (from torch->torchviz) (3.1.2)\n",
      "Requirement already satisfied: MarkupSafe>=2.0 in c:\\users\\administrator\\appdata\\local\\programs\\python\\python311\\lib\\site-packages (from jinja2->torch->torchviz) (2.1.3)\n",
      "Requirement already satisfied: mpmath>=0.19 in c:\\users\\administrator\\appdata\\local\\programs\\python\\python311\\lib\\site-packages (from sympy->torch->torchviz) (1.3.0)\n"
     ]
    },
    {
     "name": "stderr",
     "output_type": "stream",
     "text": [
      "\n",
      "[notice] A new release of pip is available: 23.1.2 -> 23.3.2\n",
      "[notice] To update, run: python.exe -m pip install --upgrade pip\n"
     ]
    }
   ],
   "source": [
    "!pip install torch torchvision\n",
    "!pip install torchsummary\n",
    "!pip install torchviz"
   ]
  },
  {
   "cell_type": "code",
   "execution_count": 1,
   "metadata": {},
   "outputs": [],
   "source": [
    "import torch\n",
    "import torch.nn as nn\n",
    "import torchviz\n",
    "from torchsummary import summary"
   ]
  },
  {
   "attachments": {},
   "cell_type": "markdown",
   "metadata": {},
   "source": [
    "### Numpy-like operations"
   ]
  },
  {
   "cell_type": "code",
   "execution_count": 2,
   "metadata": {},
   "outputs": [],
   "source": [
    "# generate random tensors\n",
    "a = torch.randn(32, 3, 224, 224)\n",
    "b = torch.randn(32, 3, 224, 224)"
   ]
  },
  {
   "cell_type": "code",
   "execution_count": 3,
   "metadata": {},
   "outputs": [
    {
     "data": {
      "text/plain": [
       "torch.Size([32, 3, 224, 224])"
      ]
     },
     "execution_count": 3,
     "metadata": {},
     "output_type": "execute_result"
    }
   ],
   "source": [
    "a.shape"
   ]
  },
  {
   "cell_type": "code",
   "execution_count": 4,
   "metadata": {},
   "outputs": [
    {
     "data": {
      "text/plain": [
       "torch.Size([2, 3, 6, 224])"
      ]
     },
     "execution_count": 4,
     "metadata": {},
     "output_type": "execute_result"
    }
   ],
   "source": [
    "# indexing\n",
    "a[2:4, :, 16:22, :].shape"
   ]
  },
  {
   "cell_type": "code",
   "execution_count": 5,
   "metadata": {},
   "outputs": [
    {
     "data": {
      "text/plain": [
       "torch.Size([32, 150528])"
      ]
     },
     "execution_count": 5,
     "metadata": {},
     "output_type": "execute_result"
    }
   ],
   "source": [
    "# reshape (not changing the order of elements)\n",
    "a.reshape(32, -1).shape"
   ]
  },
  {
   "cell_type": "code",
   "execution_count": 6,
   "metadata": {},
   "outputs": [
    {
     "data": {
      "text/plain": [
       "torch.Size([32, 224, 224, 3])"
      ]
     },
     "execution_count": 6,
     "metadata": {},
     "output_type": "execute_result"
    }
   ],
   "source": [
    "# transpose (swap axes)\n",
    "a.transpose(1, 3).shape"
   ]
  },
  {
   "cell_type": "code",
   "execution_count": 7,
   "metadata": {},
   "outputs": [
    {
     "data": {
      "text/plain": [
       "torch.Size([43, 28])"
      ]
     },
     "execution_count": 7,
     "metadata": {},
     "output_type": "execute_result"
    }
   ],
   "source": [
    "# matrix operations\n",
    "A = torch.randn(43, 32)\n",
    "B = torch.randn(32, 28)\n",
    "\n",
    "# matrix multiplication\n",
    "C = A @ B\n",
    "C.shape"
   ]
  },
  {
   "cell_type": "code",
   "execution_count": 9,
   "metadata": {},
   "outputs": [
    {
     "ename": "RuntimeError",
     "evalue": "The size of tensor a (32) must match the size of tensor b (28) at non-singleton dimension 1",
     "output_type": "error",
     "traceback": [
      "\u001b[1;31m---------------------------------------------------------------------------\u001b[0m",
      "\u001b[1;31mRuntimeError\u001b[0m                              Traceback (most recent call last)",
      "Cell \u001b[1;32mIn[9], line 2\u001b[0m\n\u001b[0;32m      1\u001b[0m \u001b[39m# element-wise multiplication\u001b[39;00m\n\u001b[1;32m----> 2\u001b[0m A \u001b[39m*\u001b[39;49m B\n",
      "\u001b[1;31mRuntimeError\u001b[0m: The size of tensor a (32) must match the size of tensor b (28) at non-singleton dimension 1"
     ]
    }
   ],
   "source": [
    "# element-wise multiplication\n",
    "A * B"
   ]
  },
  {
   "cell_type": "code",
   "execution_count": 8,
   "metadata": {},
   "outputs": [
    {
     "data": {
      "text/plain": [
       "(torch.Size([43, 32]), torch.Size([32]), torch.Size([32, 32]))"
      ]
     },
     "execution_count": 8,
     "metadata": {},
     "output_type": "execute_result"
    }
   ],
   "source": [
    "# singular value decomposition\n",
    "U, S, V = torch.svd(A)\n",
    "U.shape, S.shape, V.shape"
   ]
  },
  {
   "cell_type": "code",
   "execution_count": 9,
   "metadata": {},
   "outputs": [
    {
     "data": {
      "text/plain": [
       "torch.Size([43])"
      ]
     },
     "execution_count": 9,
     "metadata": {},
     "output_type": "execute_result"
    }
   ],
   "source": [
    "# norm\n",
    "AA = torch.norm(A, p=2,  dim=1)\n",
    "AA.shape"
   ]
  },
  {
   "attachments": {},
   "cell_type": "markdown",
   "metadata": {},
   "source": [
    "### Autograd, computation graph, backpropagation"
   ]
  },
  {
   "cell_type": "code",
   "execution_count": 10,
   "metadata": {},
   "outputs": [
    {
     "data": {
      "text/plain": [
       "tensor([[ 0.0129, -0.1683,  0.2305,  ...,  0.1823,  0.0490, -0.1757],\n",
       "        [-0.2477,  0.2510,  0.1777,  ...,  0.0963,  0.1696,  0.2243],\n",
       "        [-0.0232,  0.2119, -0.2144,  ...,  0.0235,  0.0726,  0.1121],\n",
       "        ...,\n",
       "        [-0.3503, -0.0158,  0.1145,  ..., -0.5231,  0.0522, -0.0547],\n",
       "        [-0.1245, -0.2858, -0.0904,  ..., -0.4116,  0.1064, -0.3505],\n",
       "        [-0.0459, -0.4140,  0.3850,  ..., -0.0169, -0.0456, -0.3396]])"
      ]
     },
     "execution_count": 10,
     "metadata": {},
     "output_type": "execute_result"
    }
   ],
   "source": [
    "# requires_grad\n",
    "a = torch.randn(32, 64, requires_grad=True)\n",
    "W = torch.randn(64, 10)\n",
    "\n",
    "y = torch.norm(a @ W)\n",
    "\n",
    "y.backward()\n",
    "a.grad"
   ]
  },
  {
   "cell_type": "code",
   "execution_count": 11,
   "metadata": {},
   "outputs": [
    {
     "data": {
      "text/plain": [
       "(torch.Size([10, 64]), torch.Size([10]))"
      ]
     },
     "execution_count": 11,
     "metadata": {},
     "output_type": "execute_result"
    }
   ],
   "source": [
    "# torch.nn: module including trainable parameters (requires_grad=True)\n",
    "\n",
    "# linear layer\n",
    "linear = nn.Linear(64, 10) # requires_grad=True by default\n",
    "linear.weight.shape, linear.bias.shape"
   ]
  },
  {
   "cell_type": "code",
   "execution_count": 12,
   "metadata": {},
   "outputs": [
    {
     "data": {
      "text/plain": [
       "torch.Size([32, 10])"
      ]
     },
     "execution_count": 12,
     "metadata": {},
     "output_type": "execute_result"
    }
   ],
   "source": [
    "# forward pass\n",
    "y = linear(a)\n",
    "y.shape"
   ]
  },
  {
   "cell_type": "code",
   "execution_count": 13,
   "metadata": {},
   "outputs": [
    {
     "data": {
      "text/plain": [
       "(torch.Size([10, 64]), torch.Size([10]))"
      ]
     },
     "execution_count": 13,
     "metadata": {},
     "output_type": "execute_result"
    }
   ],
   "source": [
    "y_ = torch.randn(32, 10)\n",
    "loss = torch.norm(y - y_)\n",
    "loss.backward()\n",
    "linear.weight.grad.shape, linear.bias.grad.shape"
   ]
  },
  {
   "cell_type": "code",
   "execution_count": 14,
   "metadata": {},
   "outputs": [
    {
     "data": {
      "image/svg+xml": [
       "<?xml version=\"1.0\" encoding=\"UTF-8\" standalone=\"no\"?>\n",
       "<!DOCTYPE svg PUBLIC \"-//W3C//DTD SVG 1.1//EN\"\n",
       " \"http://www.w3.org/Graphics/SVG/1.1/DTD/svg11.dtd\">\n",
       "<!-- Generated by graphviz version 9.0.0 (20230911.1827)\n",
       " -->\n",
       "<!-- Pages: 1 -->\n",
       "<svg width=\"332pt\" height=\"400pt\"\n",
       " viewBox=\"0.00 0.00 332.00 400.00\" xmlns=\"http://www.w3.org/2000/svg\" xmlns:xlink=\"http://www.w3.org/1999/xlink\">\n",
       "<g id=\"graph0\" class=\"graph\" transform=\"scale(1 1) rotate(0) translate(4 396)\">\n",
       "<polygon fill=\"white\" stroke=\"none\" points=\"-4,4 -4,-396 328,-396 328,4 -4,4\"/>\n",
       "<!-- 2984639805024 -->\n",
       "<g id=\"node1\" class=\"node\">\n",
       "<title>2984639805024</title>\n",
       "<polygon fill=\"#caff70\" stroke=\"black\" points=\"195,-32 141,-32 141,0 195,0 195,-32\"/>\n",
       "<text text-anchor=\"middle\" x=\"168\" y=\"-6.5\" font-family=\"monospace\" font-size=\"10.00\"> ()</text>\n",
       "</g>\n",
       "<!-- 2984639658448 -->\n",
       "<g id=\"node2\" class=\"node\">\n",
       "<title>2984639658448</title>\n",
       "<polygon fill=\"lightgrey\" stroke=\"black\" points=\"251,-88 85,-88 85,-68 251,-68 251,-88\"/>\n",
       "<text text-anchor=\"middle\" x=\"168\" y=\"-74.5\" font-family=\"monospace\" font-size=\"10.00\">LinalgVectorNormBackward0</text>\n",
       "</g>\n",
       "<!-- 2984639658448&#45;&gt;2984639805024 -->\n",
       "<g id=\"edge10\" class=\"edge\">\n",
       "<title>2984639658448&#45;&gt;2984639805024</title>\n",
       "<path fill=\"none\" stroke=\"black\" d=\"M168,-67.62C168,-61.1 168,-52.05 168,-43.4\"/>\n",
       "<polygon fill=\"black\" stroke=\"black\" points=\"171.5,-43.65 168,-33.65 164.5,-43.65 171.5,-43.65\"/>\n",
       "</g>\n",
       "<!-- 2984639658640 -->\n",
       "<g id=\"node3\" class=\"node\">\n",
       "<title>2984639658640</title>\n",
       "<polygon fill=\"lightgrey\" stroke=\"black\" points=\"212,-144 124,-144 124,-124 212,-124 212,-144\"/>\n",
       "<text text-anchor=\"middle\" x=\"168\" y=\"-130.5\" font-family=\"monospace\" font-size=\"10.00\">SubBackward0</text>\n",
       "</g>\n",
       "<!-- 2984639658640&#45;&gt;2984639658448 -->\n",
       "<g id=\"edge1\" class=\"edge\">\n",
       "<title>2984639658640&#45;&gt;2984639658448</title>\n",
       "<path fill=\"none\" stroke=\"black\" d=\"M168,-123.59C168,-117.01 168,-107.96 168,-99.73\"/>\n",
       "<polygon fill=\"black\" stroke=\"black\" points=\"171.5,-99.81 168,-89.81 164.5,-99.81 171.5,-99.81\"/>\n",
       "</g>\n",
       "<!-- 2983987464608 -->\n",
       "<g id=\"node4\" class=\"node\">\n",
       "<title>2983987464608</title>\n",
       "<polygon fill=\"lightgrey\" stroke=\"black\" points=\"218,-200 118,-200 118,-180 218,-180 218,-200\"/>\n",
       "<text text-anchor=\"middle\" x=\"168\" y=\"-186.5\" font-family=\"monospace\" font-size=\"10.00\">AddmmBackward0</text>\n",
       "</g>\n",
       "<!-- 2983987464608&#45;&gt;2984639658640 -->\n",
       "<g id=\"edge2\" class=\"edge\">\n",
       "<title>2983987464608&#45;&gt;2984639658640</title>\n",
       "<path fill=\"none\" stroke=\"black\" d=\"M168,-179.59C168,-173.01 168,-163.96 168,-155.73\"/>\n",
       "<polygon fill=\"black\" stroke=\"black\" points=\"171.5,-155.81 168,-145.81 164.5,-155.81 171.5,-155.81\"/>\n",
       "</g>\n",
       "<!-- 2983987463264 -->\n",
       "<g id=\"node5\" class=\"node\">\n",
       "<title>2983987463264</title>\n",
       "<polygon fill=\"lightgrey\" stroke=\"black\" points=\"100,-256 0,-256 0,-236 100,-236 100,-256\"/>\n",
       "<text text-anchor=\"middle\" x=\"50\" y=\"-242.5\" font-family=\"monospace\" font-size=\"10.00\">AccumulateGrad</text>\n",
       "</g>\n",
       "<!-- 2983987463264&#45;&gt;2983987464608 -->\n",
       "<g id=\"edge3\" class=\"edge\">\n",
       "<title>2983987463264&#45;&gt;2983987464608</title>\n",
       "<path fill=\"none\" stroke=\"black\" d=\"M70.55,-235.59C88.88,-227.21 115.99,-214.8 136.96,-205.21\"/>\n",
       "<polygon fill=\"black\" stroke=\"black\" points=\"138.27,-208.45 145.91,-201.11 135.36,-202.09 138.27,-208.45\"/>\n",
       "</g>\n",
       "<!-- 2984639802624 -->\n",
       "<g id=\"node6\" class=\"node\">\n",
       "<title>2984639802624</title>\n",
       "<polygon fill=\"lightblue\" stroke=\"black\" points=\"77,-324 23,-324 23,-292 77,-292 77,-324\"/>\n",
       "<text text-anchor=\"middle\" x=\"50\" y=\"-298.5\" font-family=\"monospace\" font-size=\"10.00\"> (10)</text>\n",
       "</g>\n",
       "<!-- 2984639802624&#45;&gt;2983987463264 -->\n",
       "<g id=\"edge4\" class=\"edge\">\n",
       "<title>2984639802624&#45;&gt;2983987463264</title>\n",
       "<path fill=\"none\" stroke=\"black\" d=\"M50,-291.55C50,-284.34 50,-275.66 50,-267.88\"/>\n",
       "<polygon fill=\"black\" stroke=\"black\" points=\"53.5,-267.92 50,-257.92 46.5,-267.92 53.5,-267.92\"/>\n",
       "</g>\n",
       "<!-- 2983987464656 -->\n",
       "<g id=\"node7\" class=\"node\">\n",
       "<title>2983987464656</title>\n",
       "<polygon fill=\"lightgrey\" stroke=\"black\" points=\"218,-256 118,-256 118,-236 218,-236 218,-256\"/>\n",
       "<text text-anchor=\"middle\" x=\"168\" y=\"-242.5\" font-family=\"monospace\" font-size=\"10.00\">AccumulateGrad</text>\n",
       "</g>\n",
       "<!-- 2983987464656&#45;&gt;2983987464608 -->\n",
       "<g id=\"edge5\" class=\"edge\">\n",
       "<title>2983987464656&#45;&gt;2983987464608</title>\n",
       "<path fill=\"none\" stroke=\"black\" d=\"M168,-235.59C168,-229.01 168,-219.96 168,-211.73\"/>\n",
       "<polygon fill=\"black\" stroke=\"black\" points=\"171.5,-211.81 168,-201.81 164.5,-211.81 171.5,-211.81\"/>\n",
       "</g>\n",
       "<!-- 2984639803584 -->\n",
       "<g id=\"node8\" class=\"node\">\n",
       "<title>2984639803584</title>\n",
       "<polygon fill=\"lightblue\" stroke=\"black\" points=\"203,-324 133,-324 133,-292 203,-292 203,-324\"/>\n",
       "<text text-anchor=\"middle\" x=\"168\" y=\"-298.5\" font-family=\"monospace\" font-size=\"10.00\"> (32, 64)</text>\n",
       "</g>\n",
       "<!-- 2984639803584&#45;&gt;2983987464656 -->\n",
       "<g id=\"edge6\" class=\"edge\">\n",
       "<title>2984639803584&#45;&gt;2983987464656</title>\n",
       "<path fill=\"none\" stroke=\"black\" d=\"M168,-291.55C168,-284.34 168,-275.66 168,-267.88\"/>\n",
       "<polygon fill=\"black\" stroke=\"black\" points=\"171.5,-267.92 168,-257.92 164.5,-267.92 171.5,-267.92\"/>\n",
       "</g>\n",
       "<!-- 2983987464416 -->\n",
       "<g id=\"node9\" class=\"node\">\n",
       "<title>2983987464416</title>\n",
       "<polygon fill=\"lightgrey\" stroke=\"black\" points=\"312,-256 236,-256 236,-236 312,-236 312,-256\"/>\n",
       "<text text-anchor=\"middle\" x=\"274\" y=\"-242.5\" font-family=\"monospace\" font-size=\"10.00\">TBackward0</text>\n",
       "</g>\n",
       "<!-- 2983987464416&#45;&gt;2983987464608 -->\n",
       "<g id=\"edge7\" class=\"edge\">\n",
       "<title>2983987464416&#45;&gt;2983987464608</title>\n",
       "<path fill=\"none\" stroke=\"black\" d=\"M255.54,-235.59C239.3,-227.32 215.39,-215.14 196.67,-205.6\"/>\n",
       "<polygon fill=\"black\" stroke=\"black\" points=\"198.46,-202.59 187.96,-201.17 195.28,-208.82 198.46,-202.59\"/>\n",
       "</g>\n",
       "<!-- 2983987464896 -->\n",
       "<g id=\"node10\" class=\"node\">\n",
       "<title>2983987464896</title>\n",
       "<polygon fill=\"lightgrey\" stroke=\"black\" points=\"324,-318 224,-318 224,-298 324,-298 324,-318\"/>\n",
       "<text text-anchor=\"middle\" x=\"274\" y=\"-304.5\" font-family=\"monospace\" font-size=\"10.00\">AccumulateGrad</text>\n",
       "</g>\n",
       "<!-- 2983987464896&#45;&gt;2983987464416 -->\n",
       "<g id=\"edge8\" class=\"edge\">\n",
       "<title>2983987464896&#45;&gt;2983987464416</title>\n",
       "<path fill=\"none\" stroke=\"black\" d=\"M274,-297.62C274,-289.56 274,-277.65 274,-267.41\"/>\n",
       "<polygon fill=\"black\" stroke=\"black\" points=\"277.5,-267.63 274,-257.63 270.5,-267.63 277.5,-267.63\"/>\n",
       "</g>\n",
       "<!-- 2984639803024 -->\n",
       "<g id=\"node11\" class=\"node\">\n",
       "<title>2984639803024</title>\n",
       "<polygon fill=\"lightblue\" stroke=\"black\" points=\"309,-392 239,-392 239,-360 309,-360 309,-392\"/>\n",
       "<text text-anchor=\"middle\" x=\"274\" y=\"-366.5\" font-family=\"monospace\" font-size=\"10.00\"> (10, 64)</text>\n",
       "</g>\n",
       "<!-- 2984639803024&#45;&gt;2983987464896 -->\n",
       "<g id=\"edge9\" class=\"edge\">\n",
       "<title>2984639803024&#45;&gt;2983987464896</title>\n",
       "<path fill=\"none\" stroke=\"black\" d=\"M274,-359.69C274,-350.8 274,-339.46 274,-329.77\"/>\n",
       "<polygon fill=\"black\" stroke=\"black\" points=\"277.5,-329.83 274,-319.83 270.5,-329.83 277.5,-329.83\"/>\n",
       "</g>\n",
       "</g>\n",
       "</svg>\n"
      ],
      "text/plain": [
       "<graphviz.graphs.Digraph at 0x2b6e8d47890>"
      ]
     },
     "execution_count": 14,
     "metadata": {},
     "output_type": "execute_result"
    }
   ],
   "source": [
    "# computation graph\n",
    "torchviz.make_dot(loss)"
   ]
  },
  {
   "cell_type": "code",
   "execution_count": 17,
   "metadata": {},
   "outputs": [
    {
     "data": {
      "text/plain": [
       "<function torch.nn.functional.boolean_dispatch.<locals>.fn(*args, **kwargs)>"
      ]
     },
     "execution_count": 17,
     "metadata": {},
     "output_type": "execute_result"
    }
   ],
   "source": [
    "# common differentiable functions\n",
    "torch.reshape\n",
    "torch.transpose # identical mapping\n",
    "torch.matmul # ...\n",
    "torch.einsum # DL researchers' favorite\n",
    "\n",
    "# nn.functional\n",
    "nn.functional.linear # linear layer\n",
    "nn.functional.conv2d # convolution\n",
    "nn.functional.max_pool2d # pooling\n",
    "# ......"
   ]
  },
  {
   "attachments": {},
   "cell_type": "markdown",
   "metadata": {},
   "source": [
    "# Build a LeNet-5 (like) model\n",
    "### PyTorch style data: Dataset -> Dataloader\n",
    "1. torchvision dataset (very commonly used public datasets)\n",
    "2. customized dataset (e.g. your own dataset)"
   ]
  },
  {
   "attachments": {},
   "cell_type": "markdown",
   "metadata": {},
   "source": [
    "#### Data augmentation:\n",
    "resize, random crop, flip, normalize, ..."
   ]
  },
  {
   "cell_type": "code",
   "execution_count": 2,
   "metadata": {},
   "outputs": [],
   "source": [
    "import torch\n",
    "import torch.nn as nn\n",
    "import torchviz\n",
    "from torchsummary import summary"
   ]
  },
  {
   "cell_type": "code",
   "execution_count": 3,
   "metadata": {},
   "outputs": [],
   "source": [
    "import torchvision\n",
    "\n",
    "# transform\n",
    "transform = torchvision.transforms.Compose([\n",
    "                torchvision.transforms.ToTensor(),\n",
    "                torchvision.transforms.Normalize(\n",
    "                    (0.1307,), (0.3081,))]) \n",
    "\n",
    "# transform is a function, excuted when indexing samples.\n",
    "\n",
    "\n",
    "# check torchvision website\n",
    "train_dataset = torchvision.datasets.MNIST(root='./data', train=True, download=True, transform=transform)\n",
    "test_dataset  = torchvision.datasets.MNIST(root='./data', train=False, download=True, transform=transform)"
   ]
  },
  {
   "attachments": {},
   "cell_type": "markdown",
   "metadata": {},
   "source": [
    "Datasets collect data from your disk by default. You can consider customizing datasets to load it from RAM."
   ]
  },
  {
   "attachments": {},
   "cell_type": "markdown",
   "metadata": {},
   "source": [
    "#### Dataloader:\n",
    "batch size, shuffle, num_workers, pin_memory, ..."
   ]
  },
  {
   "cell_type": "code",
   "execution_count": 4,
   "metadata": {},
   "outputs": [],
   "source": [
    "train_loaders = torch.utils.data.DataLoader(train_dataset, batch_size=32, shuffle=True, pin_memory=True)\n",
    "test_loaders  = torch.utils.data.DataLoader(test_dataset,  batch_size=32, shuffle=False, pin_memory=True)"
   ]
  },
  {
   "attachments": {},
   "cell_type": "markdown",
   "metadata": {},
   "source": [
    "#### An introduction on Stochastic Gradient Descent, Batch GD, shuffling\n",
    "\n",
    "....\n",
    "\n",
    "\n",
    "shuffling: https://citeseerx.ist.psu.edu/document?repid=rep1&type=pdf&doi=e84d12ea92b687e40960262a8fe3621d031d563c"
   ]
  },
  {
   "attachments": {},
   "cell_type": "markdown",
   "metadata": {},
   "source": [
    "##### Quick tips on batch size:\n",
    "1. Larger batch size -> faster training (on the same number of data), larger memory usage\n",
    "2. Smaller batch size -> flat minimum, better generalization (https://arxiv.org/pdf/1609.04836.pdf)\n",
    "\n",
    "3. Krizhevsky (2014) says “Theory suggests that when multiplying the batch size by k, one should multiply the learning rate by √k to keep the variance in the gradient expectation\n",
    "constant”, (https://arxiv.org/abs/1404.5997)\n",
    "4. (https://arxiv.org/abs/1706.02677, image classification on ImageNet-1k) performance on 8k batch size matches on small batch size.\n",
    "    They suggest \"Linear Scaling Rule: When the minibatch size is multiplied by k, multiply the learning rate by k.\"\n",
    "5. (https://arxiv.org/pdf/1804.00247.pdf, Neural Machine Translation on WMT-14) Translation performance is better on larger batch size under fixed training hours.\n"
   ]
  },
  {
   "cell_type": "code",
   "execution_count": 5,
   "metadata": {},
   "outputs": [
    {
     "name": "stdout",
     "output_type": "stream",
     "text": [
      "torch.Size([32, 1, 28, 28])\n"
     ]
    }
   ],
   "source": [
    "# dataloaders are iterators\n",
    "image, label  = next(iter(train_loaders))\n",
    "print(image.shape)"
   ]
  },
  {
   "attachments": {},
   "cell_type": "markdown",
   "metadata": {},
   "source": [
    "#### Define the model:\n",
    "Common practice: inherit nn.Module and include a lot of nn.Module's as member variables. Define a forward function."
   ]
  },
  {
   "cell_type": "code",
   "execution_count": 6,
   "metadata": {},
   "outputs": [],
   "source": [
    "import torch.nn.functional as F\n",
    "\n",
    "class LeNet5(nn.Module):\n",
    "    def __init__(self):\n",
    "        super(LeNet5, self).__init__()\n",
    "        self.conv1 = nn.Conv2d(1, 20, 5, padding=2)\n",
    "        self.pool1 = nn.MaxPool2d(kernel_size=(2,2), stride=2)\n",
    "        self.conv2 = nn.Conv2d(20, 50, 5)\n",
    "        self.pool2 = nn.MaxPool2d(kernel_size=(2,2), stride=2)\n",
    "\n",
    "        self.fc1 = nn.Linear(1250, 320)\n",
    "        self.fc2 = nn.Linear(320, 10)\n",
    "\n",
    "    def forward(self, x):\n",
    "        out = F.relu(self.conv1(x))\n",
    "        out = self.pool1(out)\n",
    "        out = F.relu(self.conv2(out))\n",
    "        out = self.pool2(out)\n",
    "\n",
    "        out = out.view(x.shape[0], -1)\n",
    "\n",
    "        out = F.relu(self.fc1(out))\n",
    "        out = self.fc2(out)\n",
    "\n",
    "        return out"
   ]
  },
  {
   "attachments": {},
   "cell_type": "markdown",
   "metadata": {},
   "source": [
    "#### GPU Scientific computing: CUDA\n",
    "1. Introduced in CS121, but very simple in PyTorch (integrated in pip package since PyTorch 2.0, before which you need to install CUDA)\n",
    "2. Usage: make every module and concerned tensors to \"cuda\"\n",
    "3. Extend to multiple GPUs (on single/multiple machines) using Distributed Data Parallel."
   ]
  },
  {
   "cell_type": "code",
   "execution_count": 7,
   "metadata": {},
   "outputs": [],
   "source": [
    "device = torch.device(\"cuda\" if torch.cuda.is_available() else \"cpu\")"
   ]
  },
  {
   "cell_type": "code",
   "execution_count": 8,
   "metadata": {},
   "outputs": [],
   "source": [
    "model = LeNet5().to(device)\n",
    "\n",
    "# forward using model(x) model.forward(x)"
   ]
  },
  {
   "attachments": {},
   "cell_type": "markdown",
   "metadata": {},
   "source": [
    "#### Loss function (criterion) and optimizer, scheduler"
   ]
  },
  {
   "cell_type": "code",
   "execution_count": 9,
   "metadata": {},
   "outputs": [],
   "source": [
    "optimizer = torch.optim.SGD(model.parameters(), lr=0.01, weight_decay=1e-7,)\n",
    "# weight decay is equivalent to a L2 norm.\n",
    "\n",
    "criterion = nn.CrossEntropyLoss()\n",
    "# penalize the difference between the target one hot and the predicted label distribution.\n",
    "\n",
    "scheduler = torch.optim.lr_scheduler.StepLR(optimizer, step_size=3, gamma=0.1)\n",
    "# change the learning rate during training."
   ]
  },
  {
   "attachments": {},
   "cell_type": "markdown",
   "metadata": {},
   "source": [
    "### PyTorch training loop\n",
    "epoch: one pass over the whole dataset"
   ]
  },
  {
   "cell_type": "code",
   "execution_count": 10,
   "metadata": {},
   "outputs": [],
   "source": [
    "def valid(model, loader):\n",
    "    total = 0\n",
    "    correct = 0\n",
    "    with torch.no_grad(): # save some memory by avoiding computation graph\n",
    "        for image, label in loader:\n",
    "            image, label = image.to(device), label.to(device)\n",
    "            pred = model(image)\n",
    "            pred_label = torch.argmax(pred, dim=1)\n",
    "            total += image.shape[0]\n",
    "            correct += (pred_label == label).sum().item()\n",
    "    return correct / total"
   ]
  },
  {
   "cell_type": "code",
   "execution_count": 11,
   "metadata": {},
   "outputs": [
    {
     "name": "stdout",
     "output_type": "stream",
     "text": [
      "Requirement already satisfied: tqdm in c:\\users\\administrator\\appdata\\local\\programs\\python\\python311\\lib\\site-packages (4.65.0)\n",
      "Requirement already satisfied: colorama in c:\\users\\administrator\\appdata\\local\\programs\\python\\python311\\lib\\site-packages (from tqdm) (0.4.6)\n"
     ]
    },
    {
     "name": "stderr",
     "output_type": "stream",
     "text": [
      "\n",
      "[notice] A new release of pip is available: 23.1.2 -> 23.3.2\n",
      "[notice] To update, run: python.exe -m pip install --upgrade pip\n"
     ]
    }
   ],
   "source": [
    "!pip install tqdm"
   ]
  },
  {
   "cell_type": "code",
   "execution_count": 12,
   "metadata": {},
   "outputs": [
    {
     "name": "stdout",
     "output_type": "stream",
     "text": [
      "0.0577\n"
     ]
    },
    {
     "name": "stderr",
     "output_type": "stream",
     "text": [
      "100%|██████████| 1875/1875 [00:28<00:00, 64.83it/s]\n"
     ]
    },
    {
     "name": "stdout",
     "output_type": "stream",
     "text": [
      "0.9661\n"
     ]
    },
    {
     "name": "stderr",
     "output_type": "stream",
     "text": [
      "100%|██████████| 1875/1875 [00:31<00:00, 60.00it/s]\n"
     ]
    },
    {
     "name": "stdout",
     "output_type": "stream",
     "text": [
      "0.9792\n"
     ]
    },
    {
     "name": "stderr",
     "output_type": "stream",
     "text": [
      "100%|██████████| 1875/1875 [00:31<00:00, 59.63it/s]\n"
     ]
    },
    {
     "name": "stdout",
     "output_type": "stream",
     "text": [
      "0.9828\n"
     ]
    },
    {
     "name": "stderr",
     "output_type": "stream",
     "text": [
      "100%|██████████| 1875/1875 [00:31<00:00, 59.25it/s]\n"
     ]
    },
    {
     "name": "stdout",
     "output_type": "stream",
     "text": [
      "0.9844\n"
     ]
    },
    {
     "name": "stderr",
     "output_type": "stream",
     "text": [
      "100%|██████████| 1875/1875 [00:31<00:00, 59.78it/s]\n"
     ]
    },
    {
     "name": "stdout",
     "output_type": "stream",
     "text": [
      "0.989\n",
      "0.989\n"
     ]
    }
   ],
   "source": [
    "from tqdm import tqdm\n",
    "\n",
    "\n",
    "print(valid(model, test_loaders))\n",
    "\n",
    "epochs = 5\n",
    "for epoch in range(epochs):\n",
    "    for (image, label) in tqdm(train_loaders):\n",
    "\n",
    "        image, label = image.to(device), label.to(device)\n",
    "\n",
    "        # forward\n",
    "        pred = model(image)\n",
    "\n",
    "        loss = criterion(pred, label) # 别搞反了，否则算不出来。常看文档。\n",
    "        \n",
    "        optimizer.zero_grad() # set the grad to zero, otherwise gradients are accumulated across iterations.\n",
    "        loss.backward() # compute gradient\n",
    "        optimizer.step() # update parameters\n",
    "\n",
    "\n",
    "    ### Evaluating (not essential for training)\n",
    "    print(valid(model, test_loaders))\n",
    "\n",
    "print(valid(model, test_loaders))\n"
   ]
  },
  {
   "attachments": {},
   "cell_type": "markdown",
   "metadata": {},
   "source": [
    "#### Save and load model\n",
    "(https://pytorch.org/tutorials/beginner/saving_loading_models.html)\n",
    "My favorite way: using state_dict."
   ]
  },
  {
   "cell_type": "code",
   "execution_count": 13,
   "metadata": {},
   "outputs": [
    {
     "data": {
      "text/plain": [
       "<All keys matched successfully>"
      ]
     },
     "execution_count": 13,
     "metadata": {},
     "output_type": "execute_result"
    }
   ],
   "source": [
    "# save model\n",
    "torch.save(model.state_dict(), 'lenet5.pt')\n",
    "\n",
    "# load model\n",
    "# first define the model\n",
    "\n",
    "m = LeNet5()\n",
    "m.load_state_dict(torch.load('lenet5.pt'))"
   ]
  },
  {
   "cell_type": "code",
   "execution_count": 14,
   "metadata": {},
   "outputs": [
    {
     "name": "stdout",
     "output_type": "stream",
     "text": [
      "----------------------------------------------------------------\n",
      "        Layer (type)               Output Shape         Param #\n",
      "================================================================\n",
      "            Conv2d-1           [-1, 20, 28, 28]             520\n",
      "         MaxPool2d-2           [-1, 20, 14, 14]               0\n",
      "            Conv2d-3           [-1, 50, 10, 10]          25,050\n",
      "         MaxPool2d-4             [-1, 50, 5, 5]               0\n",
      "            Linear-5                  [-1, 320]         400,320\n",
      "            Linear-6                   [-1, 10]           3,210\n",
      "================================================================\n",
      "Total params: 429,100\n",
      "Trainable params: 429,100\n",
      "Non-trainable params: 0\n",
      "----------------------------------------------------------------\n",
      "Input size (MB): 0.00\n",
      "Forward/backward pass size (MB): 0.20\n",
      "Params size (MB): 1.64\n",
      "Estimated Total Size (MB): 1.84\n",
      "----------------------------------------------------------------\n"
     ]
    }
   ],
   "source": [
    "s = summary(m, (1, 28, 28))"
   ]
  },
  {
   "attachments": {},
   "cell_type": "markdown",
   "metadata": {},
   "source": [
    "#### A quick look at learning rate scheduler\n",
    "1. multi-step scheduler: manually set milestones\n",
    "2. Linear LR scheduler: linearly decrease the learning rate\n",
    "3. Cosine Annealing LR scheduler: cosine annealing of the learning rate (https://openaccess.thecvf.com/content_CVPR_2019/papers/He_Bag_of_Tricks_for_Image_Classification_with_Convolutional_Neural_Networks_CVPR_2019_paper.pdf)\n",
    "4. Cyclic LR scheduler: cyclically change the learning rate (https://arxiv.org/abs/1506.01186)\n",
    "5. +Linear warmup scheduler: linearly increase the learning rate from 0 to the initial learning rate (https://arxiv.org/abs/1706.02677): a must for moderm large models."
   ]
  },
  {
   "cell_type": "code",
   "execution_count": 23,
   "metadata": {},
   "outputs": [
    {
     "data": {
      "image/png": "[encoded data removed]",
      "text/plain": [
       "<Figure size 640x480 with 1 Axes>"
      ]
     },
     "metadata": {},
     "output_type": "display_data"
    }
   ],
   "source": [
    "import matplotlib.pyplot as plt\n",
    "\n",
    "optimizer = torch.optim.SGD(nn.Linear(1,1).parameters(), lr=0.1)\n",
    "\n",
    "# you can consider update lr either each epoch or each iteration.\n",
    "cosine_annealing_lr = torch.optim.lr_scheduler.CosineAnnealingLR(optimizer, T_max=12000, eta_min=0, last_epoch=-1)\n",
    "\n",
    "lrs = []\n",
    "for i in range(12000):\n",
    "    lrs.append(cosine_annealing_lr.get_last_lr())\n",
    "    cosine_annealing_lr.step()\n",
    "\n",
    "plt.plot(lrs)\n",
    "plt.show()"
   ]
  }
 ],
 "metadata": {
  "kernelspec": {
   "display_name": "Python 3",
   "language": "python",
   "name": "python3"
  },
  "language_info": {
   "codemirror_mode": {
    "name": "ipython",
    "version": 3
   },
   "file_extension": ".py",
   "mimetype": "text/x-python",
   "name": "python",
   "nbconvert_exporter": "python",
   "pygments_lexer": "ipython3",
   "version": "3.11.4"
  },
  "orig_nbformat": 4
 },
 "nbformat": 4,
 "nbformat_minor": 2
}
